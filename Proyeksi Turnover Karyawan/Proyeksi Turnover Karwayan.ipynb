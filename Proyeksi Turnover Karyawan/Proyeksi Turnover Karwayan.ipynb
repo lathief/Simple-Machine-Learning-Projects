{
 "cells": [
  {
   "cell_type": "markdown",
   "id": "6f378fc8-7ad5-456d-ae8d-be8f741a2766",
   "metadata": {},
   "source": [
    "# The Machine Learning Process:\n",
    "- Understanding Business Problem\n",
    "- Data Collection\n",
    "- Data Preparation\n",
    "- Feature Engineering\n",
    "- Model Selection\n",
    "- Model Training\n",
    "- Model Evaluation"
   ]
  },
  {
   "cell_type": "markdown",
   "id": "3c77ff60-35d1-4bb8-a63a-ca670b6f2c57",
   "metadata": {
    "jp-MarkdownHeadingCollapsed": true,
    "tags": []
   },
   "source": [
    "# Import Library"
   ]
  },
  {
   "cell_type": "code",
   "execution_count": 1,
   "id": "2f8078b7-a8b2-412c-9fa7-ea2bd51986c7",
   "metadata": {},
   "outputs": [],
   "source": [
    "import pandas as pd\n",
    "import numpy as np"
   ]
  },
  {
   "cell_type": "markdown",
   "id": "fd37810f-6672-41dd-9711-eebf67de5692",
   "metadata": {
    "jp-MarkdownHeadingCollapsed": true,
    "tags": []
   },
   "source": [
    "# Load Data"
   ]
  },
  {
   "cell_type": "code",
   "execution_count": 2,
   "id": "07e2548a-f380-4cfe-8627-397724aa90af",
   "metadata": {},
   "outputs": [],
   "source": [
    "turnover = pd.read_csv('turnover.csv')"
   ]
  },
  {
   "cell_type": "code",
   "execution_count": 3,
   "id": "6f7cb708-b939-4e0b-aaeb-7cd6cc4a3f9f",
   "metadata": {},
   "outputs": [],
   "source": [
    "attributes = pd.read_csv('attributes.csv')"
   ]
  },
  {
   "cell_type": "markdown",
   "id": "10610a6d-4331-43c2-bb4b-e08141a037ef",
   "metadata": {
    "jp-MarkdownHeadingCollapsed": true,
    "tags": []
   },
   "source": [
    "# Assign Column Names"
   ]
  },
  {
   "cell_type": "code",
   "execution_count": 4,
   "id": "be0d7a55-8581-4078-a0a3-4c011da31163",
   "metadata": {},
   "outputs": [
    {
     "data": {
      "text/plain": [
       "Index(['7.030800821', '1', 'm', '35', 'Banks', 'HR', 'rabrecNErab', 'no', 'f',\n",
       "       'white', 'bus', '6.2', '4.1', '5.7', '7.1', '8.3'],\n",
       "      dtype='object')"
      ]
     },
     "execution_count": 4,
     "metadata": {},
     "output_type": "execute_result"
    }
   ],
   "source": [
    "turnover.columns"
   ]
  },
  {
   "cell_type": "code",
   "execution_count": 5,
   "id": "9bd12826-69fe-46d7-87d5-ede84c5d277c",
   "metadata": {},
   "outputs": [
    {
     "data": {
      "text/html": [
       "<div>\n",
       "<style scoped>\n",
       "    .dataframe tbody tr th:only-of-type {\n",
       "        vertical-align: middle;\n",
       "    }\n",
       "\n",
       "    .dataframe tbody tr th {\n",
       "        vertical-align: top;\n",
       "    }\n",
       "\n",
       "    .dataframe thead th {\n",
       "        text-align: right;\n",
       "    }\n",
       "</style>\n",
       "<table border=\"1\" class=\"dataframe\">\n",
       "  <thead>\n",
       "    <tr style=\"text-align: right;\">\n",
       "      <th></th>\n",
       "      <th>column_name</th>\n",
       "      <th>desc</th>\n",
       "    </tr>\n",
       "  </thead>\n",
       "  <tbody>\n",
       "    <tr>\n",
       "      <th>0</th>\n",
       "      <td>stag</td>\n",
       "      <td>Experience (month)</td>\n",
       "    </tr>\n",
       "    <tr>\n",
       "      <th>1</th>\n",
       "      <td>event</td>\n",
       "      <td>Employee turnover</td>\n",
       "    </tr>\n",
       "    <tr>\n",
       "      <th>2</th>\n",
       "      <td>gender</td>\n",
       "      <td>Employee's gender, female(f), or male(m)</td>\n",
       "    </tr>\n",
       "    <tr>\n",
       "      <th>3</th>\n",
       "      <td>age</td>\n",
       "      <td>Employee's age (year)</td>\n",
       "    </tr>\n",
       "    <tr>\n",
       "      <th>4</th>\n",
       "      <td>industry</td>\n",
       "      <td>Employee's Industry</td>\n",
       "    </tr>\n",
       "    <tr>\n",
       "      <th>5</th>\n",
       "      <td>profession</td>\n",
       "      <td>Employee's profession</td>\n",
       "    </tr>\n",
       "    <tr>\n",
       "      <th>6</th>\n",
       "      <td>traffic</td>\n",
       "      <td>From what pipelene employee came to the compan...</td>\n",
       "    </tr>\n",
       "    <tr>\n",
       "      <th>7</th>\n",
       "      <td>coach</td>\n",
       "      <td>Presence of a coach (training) on probation</td>\n",
       "    </tr>\n",
       "    <tr>\n",
       "      <th>8</th>\n",
       "      <td>head_gender</td>\n",
       "      <td>head (supervisor) gender</td>\n",
       "    </tr>\n",
       "    <tr>\n",
       "      <th>9</th>\n",
       "      <td>greywage</td>\n",
       "      <td>The salary does not seem to the tax authoritie...</td>\n",
       "    </tr>\n",
       "    <tr>\n",
       "      <th>10</th>\n",
       "      <td>way</td>\n",
       "      <td>Transport</td>\n",
       "    </tr>\n",
       "    <tr>\n",
       "      <th>11</th>\n",
       "      <td>extraversion</td>\n",
       "      <td>NaN</td>\n",
       "    </tr>\n",
       "    <tr>\n",
       "      <th>12</th>\n",
       "      <td>independ</td>\n",
       "      <td>NaN</td>\n",
       "    </tr>\n",
       "    <tr>\n",
       "      <th>13</th>\n",
       "      <td>selfcontrol</td>\n",
       "      <td>NaN</td>\n",
       "    </tr>\n",
       "    <tr>\n",
       "      <th>14</th>\n",
       "      <td>anxiety</td>\n",
       "      <td>NaN</td>\n",
       "    </tr>\n",
       "    <tr>\n",
       "      <th>15</th>\n",
       "      <td>novator</td>\n",
       "      <td>NaN</td>\n",
       "    </tr>\n",
       "  </tbody>\n",
       "</table>\n",
       "</div>"
      ],
      "text/plain": [
       "     column_name                                               desc\n",
       "0           stag                                 Experience (month)\n",
       "1          event                                  Employee turnover\n",
       "2         gender           Employee's gender, female(f), or male(m)\n",
       "3            age                              Employee's age (year)\n",
       "4       industry                                Employee's Industry\n",
       "5     profession                              Employee's profession\n",
       "6        traffic  From what pipelene employee came to the compan...\n",
       "7          coach        Presence of a coach (training) on probation\n",
       "8    head_gender                           head (supervisor) gender\n",
       "9       greywage  The salary does not seem to the tax authoritie...\n",
       "10           way                                          Transport\n",
       "11  extraversion                                                NaN\n",
       "12      independ                                                NaN\n",
       "13   selfcontrol                                                NaN\n",
       "14       anxiety                                                NaN\n",
       "15       novator                                                NaN"
      ]
     },
     "execution_count": 5,
     "metadata": {},
     "output_type": "execute_result"
    }
   ],
   "source": [
    "attributes"
   ]
  },
  {
   "cell_type": "code",
   "execution_count": 6,
   "id": "43c54ce4-9bd4-4b1c-98e5-e2c9d3362b35",
   "metadata": {},
   "outputs": [],
   "source": [
    "turnover.columns = attributes.column_name.values"
   ]
  },
  {
   "cell_type": "code",
   "execution_count": 7,
   "id": "fbacd3a9-ad18-42a4-ada6-0f7bfebcd626",
   "metadata": {},
   "outputs": [
    {
     "data": {
      "text/plain": [
       "Index(['stag', 'event', 'gender', 'age', 'industry', 'profession', 'traffic',\n",
       "       'coach', 'head_gender', 'greywage', 'way', 'extraversion', 'independ',\n",
       "       'selfcontrol', 'anxiety', 'novator'],\n",
       "      dtype='object')"
      ]
     },
     "execution_count": 7,
     "metadata": {},
     "output_type": "execute_result"
    }
   ],
   "source": [
    "turnover.columns"
   ]
  },
  {
   "cell_type": "markdown",
   "id": "0e2c9b50-0bbf-4339-b403-13d9c8112bbc",
   "metadata": {
    "jp-MarkdownHeadingCollapsed": true,
    "tags": []
   },
   "source": [
    "# Data Preparation"
   ]
  },
  {
   "cell_type": "markdown",
   "id": "4d5acc46-db67-4e88-a7fe-c67b690ea575",
   "metadata": {
    "jp-MarkdownHeadingCollapsed": true,
    "tags": []
   },
   "source": [
    "## Missing Value Detection"
   ]
  },
  {
   "cell_type": "markdown",
   "id": "83a0cedd-2e4e-4ebc-af76-5326005e2cac",
   "metadata": {},
   "source": [
    "Mengecek jumlah nan/null value di setiap kolom dengan isna()/isnull() dan sum()"
   ]
  },
  {
   "cell_type": "code",
   "execution_count": 8,
   "id": "5fd91060-6244-4772-bd14-fba058a4aadd",
   "metadata": {},
   "outputs": [
    {
     "data": {
      "text/plain": [
       "stag            0\n",
       "event           0\n",
       "gender          0\n",
       "age             0\n",
       "industry        0\n",
       "profession      0\n",
       "traffic         0\n",
       "coach           0\n",
       "head_gender     0\n",
       "greywage        0\n",
       "way             0\n",
       "extraversion    0\n",
       "independ        0\n",
       "selfcontrol     0\n",
       "anxiety         0\n",
       "novator         0\n",
       "dtype: int64"
      ]
     },
     "execution_count": 8,
     "metadata": {},
     "output_type": "execute_result"
    }
   ],
   "source": [
    "turnover.isna().sum()"
   ]
  },
  {
   "cell_type": "code",
   "execution_count": 9,
   "id": "b9045e96-42bb-425a-b904-4f4f76fee608",
   "metadata": {},
   "outputs": [
    {
     "data": {
      "text/plain": [
       "stag            0\n",
       "event           0\n",
       "gender          0\n",
       "age             0\n",
       "industry        0\n",
       "profession      0\n",
       "traffic         0\n",
       "coach           0\n",
       "head_gender     0\n",
       "greywage        0\n",
       "way             0\n",
       "extraversion    0\n",
       "independ        0\n",
       "selfcontrol     0\n",
       "anxiety         0\n",
       "novator         0\n",
       "dtype: int64"
      ]
     },
     "execution_count": 9,
     "metadata": {},
     "output_type": "execute_result"
    }
   ],
   "source": [
    "turnover.isnull().sum()"
   ]
  },
  {
   "cell_type": "markdown",
   "id": "4aa05082-3b25-48b1-9101-517334e3073f",
   "metadata": {
    "jp-MarkdownHeadingCollapsed": true,
    "tags": []
   },
   "source": [
    "## Duplicate Data Detection"
   ]
  },
  {
   "cell_type": "markdown",
   "id": "a2b5ffec-03de-4d39-853b-24f9682fa988",
   "metadata": {},
   "source": [
    "Cek semua data duplikat"
   ]
  },
  {
   "cell_type": "code",
   "execution_count": 10,
   "id": "43449464-fc17-4c26-b17d-a12813267dae",
   "metadata": {},
   "outputs": [
    {
     "data": {
      "text/html": [
       "<div>\n",
       "<style scoped>\n",
       "    .dataframe tbody tr th:only-of-type {\n",
       "        vertical-align: middle;\n",
       "    }\n",
       "\n",
       "    .dataframe tbody tr th {\n",
       "        vertical-align: top;\n",
       "    }\n",
       "\n",
       "    .dataframe thead th {\n",
       "        text-align: right;\n",
       "    }\n",
       "</style>\n",
       "<table border=\"1\" class=\"dataframe\">\n",
       "  <thead>\n",
       "    <tr style=\"text-align: right;\">\n",
       "      <th></th>\n",
       "      <th>stag</th>\n",
       "      <th>event</th>\n",
       "      <th>gender</th>\n",
       "      <th>age</th>\n",
       "      <th>industry</th>\n",
       "      <th>profession</th>\n",
       "      <th>traffic</th>\n",
       "      <th>coach</th>\n",
       "      <th>head_gender</th>\n",
       "      <th>greywage</th>\n",
       "      <th>way</th>\n",
       "      <th>extraversion</th>\n",
       "      <th>independ</th>\n",
       "      <th>selfcontrol</th>\n",
       "      <th>anxiety</th>\n",
       "      <th>novator</th>\n",
       "    </tr>\n",
       "  </thead>\n",
       "  <tbody>\n",
       "    <tr>\n",
       "      <th>4</th>\n",
       "      <td>8.969199</td>\n",
       "      <td>1</td>\n",
       "      <td>f</td>\n",
       "      <td>42.0</td>\n",
       "      <td>manufacture</td>\n",
       "      <td>HR</td>\n",
       "      <td>empjs</td>\n",
       "      <td>yes</td>\n",
       "      <td>m</td>\n",
       "      <td>white</td>\n",
       "      <td>bus</td>\n",
       "      <td>6.2</td>\n",
       "      <td>6.2</td>\n",
       "      <td>4.1</td>\n",
       "      <td>5.6</td>\n",
       "      <td>6.7</td>\n",
       "    </tr>\n",
       "    <tr>\n",
       "      <th>5</th>\n",
       "      <td>8.969199</td>\n",
       "      <td>1</td>\n",
       "      <td>f</td>\n",
       "      <td>42.0</td>\n",
       "      <td>manufacture</td>\n",
       "      <td>HR</td>\n",
       "      <td>empjs</td>\n",
       "      <td>yes</td>\n",
       "      <td>m</td>\n",
       "      <td>white</td>\n",
       "      <td>bus</td>\n",
       "      <td>6.2</td>\n",
       "      <td>6.2</td>\n",
       "      <td>4.1</td>\n",
       "      <td>5.6</td>\n",
       "      <td>6.7</td>\n",
       "    </tr>\n",
       "    <tr>\n",
       "      <th>35</th>\n",
       "      <td>22.735113</td>\n",
       "      <td>1</td>\n",
       "      <td>f</td>\n",
       "      <td>34.0</td>\n",
       "      <td>Retail</td>\n",
       "      <td>HR</td>\n",
       "      <td>KA</td>\n",
       "      <td>no</td>\n",
       "      <td>m</td>\n",
       "      <td>white</td>\n",
       "      <td>car</td>\n",
       "      <td>5.4</td>\n",
       "      <td>5.5</td>\n",
       "      <td>4.9</td>\n",
       "      <td>4.8</td>\n",
       "      <td>4.4</td>\n",
       "    </tr>\n",
       "    <tr>\n",
       "      <th>36</th>\n",
       "      <td>22.735113</td>\n",
       "      <td>1</td>\n",
       "      <td>f</td>\n",
       "      <td>34.0</td>\n",
       "      <td>Retail</td>\n",
       "      <td>HR</td>\n",
       "      <td>KA</td>\n",
       "      <td>no</td>\n",
       "      <td>m</td>\n",
       "      <td>white</td>\n",
       "      <td>car</td>\n",
       "      <td>6.2</td>\n",
       "      <td>6.2</td>\n",
       "      <td>4.9</td>\n",
       "      <td>3.3</td>\n",
       "      <td>2.9</td>\n",
       "    </tr>\n",
       "    <tr>\n",
       "      <th>37</th>\n",
       "      <td>22.735113</td>\n",
       "      <td>1</td>\n",
       "      <td>f</td>\n",
       "      <td>34.0</td>\n",
       "      <td>Retail</td>\n",
       "      <td>HR</td>\n",
       "      <td>KA</td>\n",
       "      <td>no</td>\n",
       "      <td>m</td>\n",
       "      <td>white</td>\n",
       "      <td>car</td>\n",
       "      <td>5.4</td>\n",
       "      <td>5.5</td>\n",
       "      <td>4.9</td>\n",
       "      <td>4.8</td>\n",
       "      <td>4.4</td>\n",
       "    </tr>\n",
       "    <tr>\n",
       "      <th>38</th>\n",
       "      <td>22.735113</td>\n",
       "      <td>1</td>\n",
       "      <td>f</td>\n",
       "      <td>34.0</td>\n",
       "      <td>Retail</td>\n",
       "      <td>HR</td>\n",
       "      <td>KA</td>\n",
       "      <td>no</td>\n",
       "      <td>m</td>\n",
       "      <td>white</td>\n",
       "      <td>car</td>\n",
       "      <td>6.2</td>\n",
       "      <td>6.2</td>\n",
       "      <td>4.9</td>\n",
       "      <td>3.3</td>\n",
       "      <td>2.9</td>\n",
       "    </tr>\n",
       "    <tr>\n",
       "      <th>59</th>\n",
       "      <td>15.572895</td>\n",
       "      <td>1</td>\n",
       "      <td>f</td>\n",
       "      <td>24.0</td>\n",
       "      <td>Retail</td>\n",
       "      <td>HR</td>\n",
       "      <td>youjs</td>\n",
       "      <td>no</td>\n",
       "      <td>f</td>\n",
       "      <td>white</td>\n",
       "      <td>foot</td>\n",
       "      <td>6.2</td>\n",
       "      <td>7.6</td>\n",
       "      <td>3.3</td>\n",
       "      <td>3.3</td>\n",
       "      <td>6.7</td>\n",
       "    </tr>\n",
       "    <tr>\n",
       "      <th>60</th>\n",
       "      <td>15.572895</td>\n",
       "      <td>1</td>\n",
       "      <td>f</td>\n",
       "      <td>24.0</td>\n",
       "      <td>Retail</td>\n",
       "      <td>HR</td>\n",
       "      <td>youjs</td>\n",
       "      <td>no</td>\n",
       "      <td>f</td>\n",
       "      <td>white</td>\n",
       "      <td>foot</td>\n",
       "      <td>6.2</td>\n",
       "      <td>7.6</td>\n",
       "      <td>3.3</td>\n",
       "      <td>3.3</td>\n",
       "      <td>6.7</td>\n",
       "    </tr>\n",
       "    <tr>\n",
       "      <th>142</th>\n",
       "      <td>78.685832</td>\n",
       "      <td>1</td>\n",
       "      <td>f</td>\n",
       "      <td>31.0</td>\n",
       "      <td>Banks</td>\n",
       "      <td>HR</td>\n",
       "      <td>rabrecNErab</td>\n",
       "      <td>no</td>\n",
       "      <td>f</td>\n",
       "      <td>grey</td>\n",
       "      <td>bus</td>\n",
       "      <td>3.8</td>\n",
       "      <td>4.1</td>\n",
       "      <td>7.2</td>\n",
       "      <td>8.7</td>\n",
       "      <td>2.1</td>\n",
       "    </tr>\n",
       "    <tr>\n",
       "      <th>143</th>\n",
       "      <td>78.685832</td>\n",
       "      <td>1</td>\n",
       "      <td>f</td>\n",
       "      <td>31.0</td>\n",
       "      <td>Banks</td>\n",
       "      <td>HR</td>\n",
       "      <td>rabrecNErab</td>\n",
       "      <td>no</td>\n",
       "      <td>f</td>\n",
       "      <td>grey</td>\n",
       "      <td>bus</td>\n",
       "      <td>3.8</td>\n",
       "      <td>4.1</td>\n",
       "      <td>7.2</td>\n",
       "      <td>8.7</td>\n",
       "      <td>2.1</td>\n",
       "    </tr>\n",
       "    <tr>\n",
       "      <th>240</th>\n",
       "      <td>12.024641</td>\n",
       "      <td>1</td>\n",
       "      <td>m</td>\n",
       "      <td>30.0</td>\n",
       "      <td>Retail</td>\n",
       "      <td>Sales</td>\n",
       "      <td>rabrecNErab</td>\n",
       "      <td>no</td>\n",
       "      <td>m</td>\n",
       "      <td>grey</td>\n",
       "      <td>car</td>\n",
       "      <td>5.4</td>\n",
       "      <td>4.1</td>\n",
       "      <td>4.9</td>\n",
       "      <td>6.3</td>\n",
       "      <td>6.0</td>\n",
       "    </tr>\n",
       "    <tr>\n",
       "      <th>272</th>\n",
       "      <td>12.024641</td>\n",
       "      <td>1</td>\n",
       "      <td>m</td>\n",
       "      <td>30.0</td>\n",
       "      <td>Retail</td>\n",
       "      <td>Sales</td>\n",
       "      <td>rabrecNErab</td>\n",
       "      <td>no</td>\n",
       "      <td>m</td>\n",
       "      <td>grey</td>\n",
       "      <td>car</td>\n",
       "      <td>5.4</td>\n",
       "      <td>4.1</td>\n",
       "      <td>4.9</td>\n",
       "      <td>6.3</td>\n",
       "      <td>6.0</td>\n",
       "    </tr>\n",
       "    <tr>\n",
       "      <th>343</th>\n",
       "      <td>40.312115</td>\n",
       "      <td>0</td>\n",
       "      <td>f</td>\n",
       "      <td>29.0</td>\n",
       "      <td>manufacture</td>\n",
       "      <td>HR</td>\n",
       "      <td>rabrecNErab</td>\n",
       "      <td>my head</td>\n",
       "      <td>m</td>\n",
       "      <td>white</td>\n",
       "      <td>foot</td>\n",
       "      <td>6.2</td>\n",
       "      <td>3.4</td>\n",
       "      <td>4.1</td>\n",
       "      <td>7.9</td>\n",
       "      <td>7.5</td>\n",
       "    </tr>\n",
       "    <tr>\n",
       "      <th>344</th>\n",
       "      <td>40.312115</td>\n",
       "      <td>0</td>\n",
       "      <td>f</td>\n",
       "      <td>29.0</td>\n",
       "      <td>manufacture</td>\n",
       "      <td>HR</td>\n",
       "      <td>rabrecNErab</td>\n",
       "      <td>my head</td>\n",
       "      <td>m</td>\n",
       "      <td>white</td>\n",
       "      <td>foot</td>\n",
       "      <td>6.2</td>\n",
       "      <td>3.4</td>\n",
       "      <td>4.1</td>\n",
       "      <td>7.9</td>\n",
       "      <td>7.5</td>\n",
       "    </tr>\n",
       "    <tr>\n",
       "      <th>460</th>\n",
       "      <td>1.117043</td>\n",
       "      <td>1</td>\n",
       "      <td>f</td>\n",
       "      <td>54.0</td>\n",
       "      <td>Pharma</td>\n",
       "      <td>HR</td>\n",
       "      <td>rabrecNErab</td>\n",
       "      <td>no</td>\n",
       "      <td>m</td>\n",
       "      <td>white</td>\n",
       "      <td>car</td>\n",
       "      <td>4.6</td>\n",
       "      <td>8.4</td>\n",
       "      <td>5.7</td>\n",
       "      <td>4.0</td>\n",
       "      <td>4.4</td>\n",
       "    </tr>\n",
       "    <tr>\n",
       "      <th>461</th>\n",
       "      <td>1.117043</td>\n",
       "      <td>1</td>\n",
       "      <td>f</td>\n",
       "      <td>54.0</td>\n",
       "      <td>Pharma</td>\n",
       "      <td>HR</td>\n",
       "      <td>rabrecNErab</td>\n",
       "      <td>no</td>\n",
       "      <td>m</td>\n",
       "      <td>white</td>\n",
       "      <td>car</td>\n",
       "      <td>4.6</td>\n",
       "      <td>8.4</td>\n",
       "      <td>5.7</td>\n",
       "      <td>4.0</td>\n",
       "      <td>4.4</td>\n",
       "    </tr>\n",
       "    <tr>\n",
       "      <th>688</th>\n",
       "      <td>39.227926</td>\n",
       "      <td>1</td>\n",
       "      <td>f</td>\n",
       "      <td>37.0</td>\n",
       "      <td>Retail</td>\n",
       "      <td>HR</td>\n",
       "      <td>friends</td>\n",
       "      <td>no</td>\n",
       "      <td>f</td>\n",
       "      <td>white</td>\n",
       "      <td>car</td>\n",
       "      <td>6.2</td>\n",
       "      <td>6.9</td>\n",
       "      <td>4.1</td>\n",
       "      <td>6.3</td>\n",
       "      <td>8.3</td>\n",
       "    </tr>\n",
       "    <tr>\n",
       "      <th>689</th>\n",
       "      <td>39.227926</td>\n",
       "      <td>1</td>\n",
       "      <td>f</td>\n",
       "      <td>37.0</td>\n",
       "      <td>Retail</td>\n",
       "      <td>HR</td>\n",
       "      <td>friends</td>\n",
       "      <td>no</td>\n",
       "      <td>f</td>\n",
       "      <td>white</td>\n",
       "      <td>car</td>\n",
       "      <td>3.8</td>\n",
       "      <td>9.1</td>\n",
       "      <td>4.9</td>\n",
       "      <td>5.6</td>\n",
       "      <td>7.5</td>\n",
       "    </tr>\n",
       "    <tr>\n",
       "      <th>690</th>\n",
       "      <td>39.227926</td>\n",
       "      <td>1</td>\n",
       "      <td>f</td>\n",
       "      <td>37.0</td>\n",
       "      <td>Retail</td>\n",
       "      <td>HR</td>\n",
       "      <td>friends</td>\n",
       "      <td>no</td>\n",
       "      <td>f</td>\n",
       "      <td>white</td>\n",
       "      <td>car</td>\n",
       "      <td>6.2</td>\n",
       "      <td>6.9</td>\n",
       "      <td>4.1</td>\n",
       "      <td>6.3</td>\n",
       "      <td>8.3</td>\n",
       "    </tr>\n",
       "    <tr>\n",
       "      <th>691</th>\n",
       "      <td>39.227926</td>\n",
       "      <td>1</td>\n",
       "      <td>f</td>\n",
       "      <td>37.0</td>\n",
       "      <td>Retail</td>\n",
       "      <td>HR</td>\n",
       "      <td>friends</td>\n",
       "      <td>no</td>\n",
       "      <td>f</td>\n",
       "      <td>white</td>\n",
       "      <td>car</td>\n",
       "      <td>3.8</td>\n",
       "      <td>9.1</td>\n",
       "      <td>4.9</td>\n",
       "      <td>5.6</td>\n",
       "      <td>7.5</td>\n",
       "    </tr>\n",
       "    <tr>\n",
       "      <th>703</th>\n",
       "      <td>12.681725</td>\n",
       "      <td>1</td>\n",
       "      <td>f</td>\n",
       "      <td>36.0</td>\n",
       "      <td>PowerGeneration</td>\n",
       "      <td>HR</td>\n",
       "      <td>youjs</td>\n",
       "      <td>my head</td>\n",
       "      <td>m</td>\n",
       "      <td>white</td>\n",
       "      <td>bus</td>\n",
       "      <td>6.2</td>\n",
       "      <td>5.5</td>\n",
       "      <td>5.7</td>\n",
       "      <td>5.6</td>\n",
       "      <td>6.7</td>\n",
       "    </tr>\n",
       "    <tr>\n",
       "      <th>765</th>\n",
       "      <td>12.681725</td>\n",
       "      <td>1</td>\n",
       "      <td>f</td>\n",
       "      <td>36.0</td>\n",
       "      <td>PowerGeneration</td>\n",
       "      <td>HR</td>\n",
       "      <td>youjs</td>\n",
       "      <td>my head</td>\n",
       "      <td>m</td>\n",
       "      <td>white</td>\n",
       "      <td>bus</td>\n",
       "      <td>6.2</td>\n",
       "      <td>5.5</td>\n",
       "      <td>5.7</td>\n",
       "      <td>5.6</td>\n",
       "      <td>6.7</td>\n",
       "    </tr>\n",
       "    <tr>\n",
       "      <th>964</th>\n",
       "      <td>89.363450</td>\n",
       "      <td>1</td>\n",
       "      <td>f</td>\n",
       "      <td>22.0</td>\n",
       "      <td>PowerGeneration</td>\n",
       "      <td>HR</td>\n",
       "      <td>recNErab</td>\n",
       "      <td>no</td>\n",
       "      <td>m</td>\n",
       "      <td>white</td>\n",
       "      <td>bus</td>\n",
       "      <td>7.0</td>\n",
       "      <td>4.8</td>\n",
       "      <td>4.9</td>\n",
       "      <td>6.3</td>\n",
       "      <td>7.5</td>\n",
       "    </tr>\n",
       "    <tr>\n",
       "      <th>1094</th>\n",
       "      <td>89.363450</td>\n",
       "      <td>1</td>\n",
       "      <td>f</td>\n",
       "      <td>22.0</td>\n",
       "      <td>PowerGeneration</td>\n",
       "      <td>HR</td>\n",
       "      <td>recNErab</td>\n",
       "      <td>no</td>\n",
       "      <td>m</td>\n",
       "      <td>white</td>\n",
       "      <td>bus</td>\n",
       "      <td>7.0</td>\n",
       "      <td>4.8</td>\n",
       "      <td>4.9</td>\n",
       "      <td>6.3</td>\n",
       "      <td>7.5</td>\n",
       "    </tr>\n",
       "    <tr>\n",
       "      <th>1123</th>\n",
       "      <td>10.611910</td>\n",
       "      <td>0</td>\n",
       "      <td>f</td>\n",
       "      <td>41.0</td>\n",
       "      <td>Banks</td>\n",
       "      <td>HR</td>\n",
       "      <td>rabrecNErab</td>\n",
       "      <td>my head</td>\n",
       "      <td>m</td>\n",
       "      <td>white</td>\n",
       "      <td>bus</td>\n",
       "      <td>8.6</td>\n",
       "      <td>3.4</td>\n",
       "      <td>2.6</td>\n",
       "      <td>4.8</td>\n",
       "      <td>8.3</td>\n",
       "    </tr>\n",
       "    <tr>\n",
       "      <th>1124</th>\n",
       "      <td>10.611910</td>\n",
       "      <td>0</td>\n",
       "      <td>f</td>\n",
       "      <td>41.0</td>\n",
       "      <td>Banks</td>\n",
       "      <td>HR</td>\n",
       "      <td>rabrecNErab</td>\n",
       "      <td>my head</td>\n",
       "      <td>m</td>\n",
       "      <td>white</td>\n",
       "      <td>bus</td>\n",
       "      <td>8.6</td>\n",
       "      <td>3.4</td>\n",
       "      <td>2.6</td>\n",
       "      <td>4.8</td>\n",
       "      <td>8.3</td>\n",
       "    </tr>\n",
       "  </tbody>\n",
       "</table>\n",
       "</div>"
      ],
      "text/plain": [
       "           stag  event gender   age         industry profession      traffic   \n",
       "4      8.969199      1      f  42.0      manufacture         HR        empjs  \\\n",
       "5      8.969199      1      f  42.0      manufacture         HR        empjs   \n",
       "35    22.735113      1      f  34.0           Retail         HR           KA   \n",
       "36    22.735113      1      f  34.0           Retail         HR           KA   \n",
       "37    22.735113      1      f  34.0           Retail         HR           KA   \n",
       "38    22.735113      1      f  34.0           Retail         HR           KA   \n",
       "59    15.572895      1      f  24.0           Retail         HR        youjs   \n",
       "60    15.572895      1      f  24.0           Retail         HR        youjs   \n",
       "142   78.685832      1      f  31.0            Banks         HR  rabrecNErab   \n",
       "143   78.685832      1      f  31.0            Banks         HR  rabrecNErab   \n",
       "240   12.024641      1      m  30.0           Retail      Sales  rabrecNErab   \n",
       "272   12.024641      1      m  30.0           Retail      Sales  rabrecNErab   \n",
       "343   40.312115      0      f  29.0      manufacture         HR  rabrecNErab   \n",
       "344   40.312115      0      f  29.0      manufacture         HR  rabrecNErab   \n",
       "460    1.117043      1      f  54.0           Pharma         HR  rabrecNErab   \n",
       "461    1.117043      1      f  54.0           Pharma         HR  rabrecNErab   \n",
       "688   39.227926      1      f  37.0           Retail         HR      friends   \n",
       "689   39.227926      1      f  37.0           Retail         HR      friends   \n",
       "690   39.227926      1      f  37.0           Retail         HR      friends   \n",
       "691   39.227926      1      f  37.0           Retail         HR      friends   \n",
       "703   12.681725      1      f  36.0  PowerGeneration         HR        youjs   \n",
       "765   12.681725      1      f  36.0  PowerGeneration         HR        youjs   \n",
       "964   89.363450      1      f  22.0  PowerGeneration         HR     recNErab   \n",
       "1094  89.363450      1      f  22.0  PowerGeneration         HR     recNErab   \n",
       "1123  10.611910      0      f  41.0            Banks         HR  rabrecNErab   \n",
       "1124  10.611910      0      f  41.0            Banks         HR  rabrecNErab   \n",
       "\n",
       "        coach head_gender greywage   way  extraversion  independ  selfcontrol   \n",
       "4         yes           m    white   bus           6.2       6.2          4.1  \\\n",
       "5         yes           m    white   bus           6.2       6.2          4.1   \n",
       "35         no           m    white   car           5.4       5.5          4.9   \n",
       "36         no           m    white   car           6.2       6.2          4.9   \n",
       "37         no           m    white   car           5.4       5.5          4.9   \n",
       "38         no           m    white   car           6.2       6.2          4.9   \n",
       "59         no           f    white  foot           6.2       7.6          3.3   \n",
       "60         no           f    white  foot           6.2       7.6          3.3   \n",
       "142        no           f     grey   bus           3.8       4.1          7.2   \n",
       "143        no           f     grey   bus           3.8       4.1          7.2   \n",
       "240        no           m     grey   car           5.4       4.1          4.9   \n",
       "272        no           m     grey   car           5.4       4.1          4.9   \n",
       "343   my head           m    white  foot           6.2       3.4          4.1   \n",
       "344   my head           m    white  foot           6.2       3.4          4.1   \n",
       "460        no           m    white   car           4.6       8.4          5.7   \n",
       "461        no           m    white   car           4.6       8.4          5.7   \n",
       "688        no           f    white   car           6.2       6.9          4.1   \n",
       "689        no           f    white   car           3.8       9.1          4.9   \n",
       "690        no           f    white   car           6.2       6.9          4.1   \n",
       "691        no           f    white   car           3.8       9.1          4.9   \n",
       "703   my head           m    white   bus           6.2       5.5          5.7   \n",
       "765   my head           m    white   bus           6.2       5.5          5.7   \n",
       "964        no           m    white   bus           7.0       4.8          4.9   \n",
       "1094       no           m    white   bus           7.0       4.8          4.9   \n",
       "1123  my head           m    white   bus           8.6       3.4          2.6   \n",
       "1124  my head           m    white   bus           8.6       3.4          2.6   \n",
       "\n",
       "      anxiety  novator  \n",
       "4         5.6      6.7  \n",
       "5         5.6      6.7  \n",
       "35        4.8      4.4  \n",
       "36        3.3      2.9  \n",
       "37        4.8      4.4  \n",
       "38        3.3      2.9  \n",
       "59        3.3      6.7  \n",
       "60        3.3      6.7  \n",
       "142       8.7      2.1  \n",
       "143       8.7      2.1  \n",
       "240       6.3      6.0  \n",
       "272       6.3      6.0  \n",
       "343       7.9      7.5  \n",
       "344       7.9      7.5  \n",
       "460       4.0      4.4  \n",
       "461       4.0      4.4  \n",
       "688       6.3      8.3  \n",
       "689       5.6      7.5  \n",
       "690       6.3      8.3  \n",
       "691       5.6      7.5  \n",
       "703       5.6      6.7  \n",
       "765       5.6      6.7  \n",
       "964       6.3      7.5  \n",
       "1094      6.3      7.5  \n",
       "1123      4.8      8.3  \n",
       "1124      4.8      8.3  "
      ]
     },
     "execution_count": 10,
     "metadata": {},
     "output_type": "execute_result"
    }
   ],
   "source": [
    "turnover[turnover.duplicated(keep = False)]"
   ]
  },
  {
   "cell_type": "markdown",
   "id": "fd038863-b602-4093-b195-d2999629201a",
   "metadata": {},
   "source": [
    "Drop data duplikat. Dari data duplikat tersebut, simpan yang terakhir"
   ]
  },
  {
   "cell_type": "code",
   "execution_count": 11,
   "id": "e0ce1789-e5c0-4d75-afeb-75eb594f6b0c",
   "metadata": {},
   "outputs": [],
   "source": [
    "turnover = turnover.drop_duplicates(keep = 'last')"
   ]
  },
  {
   "cell_type": "markdown",
   "id": "865de7ac-89af-4bbd-b2b1-c8bc655484eb",
   "metadata": {},
   "source": [
    "Reset index untuk mengembalikan urutan index"
   ]
  },
  {
   "cell_type": "code",
   "execution_count": 12,
   "id": "3b61e194-b430-46b7-bdf6-9577aac29428",
   "metadata": {},
   "outputs": [],
   "source": [
    "turnover = turnover.reset_index(drop = True)"
   ]
  },
  {
   "cell_type": "code",
   "execution_count": 13,
   "id": "2a6cdb19-583b-4fc9-ba9b-4a1319104f3a",
   "metadata": {},
   "outputs": [
    {
     "data": {
      "text/html": [
       "<div>\n",
       "<style scoped>\n",
       "    .dataframe tbody tr th:only-of-type {\n",
       "        vertical-align: middle;\n",
       "    }\n",
       "\n",
       "    .dataframe tbody tr th {\n",
       "        vertical-align: top;\n",
       "    }\n",
       "\n",
       "    .dataframe thead th {\n",
       "        text-align: right;\n",
       "    }\n",
       "</style>\n",
       "<table border=\"1\" class=\"dataframe\">\n",
       "  <thead>\n",
       "    <tr style=\"text-align: right;\">\n",
       "      <th></th>\n",
       "      <th>stag</th>\n",
       "      <th>event</th>\n",
       "      <th>gender</th>\n",
       "      <th>age</th>\n",
       "      <th>industry</th>\n",
       "      <th>profession</th>\n",
       "      <th>traffic</th>\n",
       "      <th>coach</th>\n",
       "      <th>head_gender</th>\n",
       "      <th>greywage</th>\n",
       "      <th>way</th>\n",
       "      <th>extraversion</th>\n",
       "      <th>independ</th>\n",
       "      <th>selfcontrol</th>\n",
       "      <th>anxiety</th>\n",
       "      <th>novator</th>\n",
       "    </tr>\n",
       "  </thead>\n",
       "  <tbody>\n",
       "    <tr>\n",
       "      <th>0</th>\n",
       "      <td>22.965092</td>\n",
       "      <td>1</td>\n",
       "      <td>m</td>\n",
       "      <td>33.0</td>\n",
       "      <td>Banks</td>\n",
       "      <td>HR</td>\n",
       "      <td>empjs</td>\n",
       "      <td>no</td>\n",
       "      <td>m</td>\n",
       "      <td>white</td>\n",
       "      <td>bus</td>\n",
       "      <td>6.2</td>\n",
       "      <td>4.1</td>\n",
       "      <td>5.7</td>\n",
       "      <td>7.1</td>\n",
       "      <td>8.3</td>\n",
       "    </tr>\n",
       "    <tr>\n",
       "      <th>1</th>\n",
       "      <td>15.934292</td>\n",
       "      <td>1</td>\n",
       "      <td>f</td>\n",
       "      <td>35.0</td>\n",
       "      <td>PowerGeneration</td>\n",
       "      <td>HR</td>\n",
       "      <td>rabrecNErab</td>\n",
       "      <td>no</td>\n",
       "      <td>m</td>\n",
       "      <td>white</td>\n",
       "      <td>bus</td>\n",
       "      <td>6.2</td>\n",
       "      <td>6.2</td>\n",
       "      <td>2.6</td>\n",
       "      <td>4.8</td>\n",
       "      <td>8.3</td>\n",
       "    </tr>\n",
       "    <tr>\n",
       "      <th>2</th>\n",
       "      <td>15.934292</td>\n",
       "      <td>1</td>\n",
       "      <td>f</td>\n",
       "      <td>35.0</td>\n",
       "      <td>PowerGeneration</td>\n",
       "      <td>HR</td>\n",
       "      <td>rabrecNErab</td>\n",
       "      <td>no</td>\n",
       "      <td>m</td>\n",
       "      <td>white</td>\n",
       "      <td>bus</td>\n",
       "      <td>5.4</td>\n",
       "      <td>7.6</td>\n",
       "      <td>4.9</td>\n",
       "      <td>2.5</td>\n",
       "      <td>6.7</td>\n",
       "    </tr>\n",
       "    <tr>\n",
       "      <th>3</th>\n",
       "      <td>8.410678</td>\n",
       "      <td>1</td>\n",
       "      <td>m</td>\n",
       "      <td>32.0</td>\n",
       "      <td>Retail</td>\n",
       "      <td>Commercial</td>\n",
       "      <td>youjs</td>\n",
       "      <td>yes</td>\n",
       "      <td>f</td>\n",
       "      <td>white</td>\n",
       "      <td>bus</td>\n",
       "      <td>3.0</td>\n",
       "      <td>4.1</td>\n",
       "      <td>8.0</td>\n",
       "      <td>7.1</td>\n",
       "      <td>3.7</td>\n",
       "    </tr>\n",
       "    <tr>\n",
       "      <th>4</th>\n",
       "      <td>8.969199</td>\n",
       "      <td>1</td>\n",
       "      <td>f</td>\n",
       "      <td>42.0</td>\n",
       "      <td>manufacture</td>\n",
       "      <td>HR</td>\n",
       "      <td>empjs</td>\n",
       "      <td>yes</td>\n",
       "      <td>m</td>\n",
       "      <td>white</td>\n",
       "      <td>bus</td>\n",
       "      <td>6.2</td>\n",
       "      <td>6.2</td>\n",
       "      <td>4.1</td>\n",
       "      <td>5.6</td>\n",
       "      <td>6.7</td>\n",
       "    </tr>\n",
       "    <tr>\n",
       "      <th>...</th>\n",
       "      <td>...</td>\n",
       "      <td>...</td>\n",
       "      <td>...</td>\n",
       "      <td>...</td>\n",
       "      <td>...</td>\n",
       "      <td>...</td>\n",
       "      <td>...</td>\n",
       "      <td>...</td>\n",
       "      <td>...</td>\n",
       "      <td>...</td>\n",
       "      <td>...</td>\n",
       "      <td>...</td>\n",
       "      <td>...</td>\n",
       "      <td>...</td>\n",
       "      <td>...</td>\n",
       "      <td>...</td>\n",
       "    </tr>\n",
       "    <tr>\n",
       "      <th>1110</th>\n",
       "      <td>6.669405</td>\n",
       "      <td>0</td>\n",
       "      <td>f</td>\n",
       "      <td>27.0</td>\n",
       "      <td>Banks</td>\n",
       "      <td>HR</td>\n",
       "      <td>youjs</td>\n",
       "      <td>no</td>\n",
       "      <td>f</td>\n",
       "      <td>white</td>\n",
       "      <td>bus</td>\n",
       "      <td>9.4</td>\n",
       "      <td>5.5</td>\n",
       "      <td>3.3</td>\n",
       "      <td>4.0</td>\n",
       "      <td>7.5</td>\n",
       "    </tr>\n",
       "    <tr>\n",
       "      <th>1111</th>\n",
       "      <td>10.611910</td>\n",
       "      <td>0</td>\n",
       "      <td>f</td>\n",
       "      <td>41.0</td>\n",
       "      <td>Banks</td>\n",
       "      <td>HR</td>\n",
       "      <td>rabrecNErab</td>\n",
       "      <td>my head</td>\n",
       "      <td>m</td>\n",
       "      <td>white</td>\n",
       "      <td>bus</td>\n",
       "      <td>8.6</td>\n",
       "      <td>3.4</td>\n",
       "      <td>2.6</td>\n",
       "      <td>4.8</td>\n",
       "      <td>8.3</td>\n",
       "    </tr>\n",
       "    <tr>\n",
       "      <th>1112</th>\n",
       "      <td>118.800821</td>\n",
       "      <td>0</td>\n",
       "      <td>f</td>\n",
       "      <td>34.0</td>\n",
       "      <td>Telecom</td>\n",
       "      <td>Accounting</td>\n",
       "      <td>KA</td>\n",
       "      <td>no</td>\n",
       "      <td>f</td>\n",
       "      <td>white</td>\n",
       "      <td>bus</td>\n",
       "      <td>4.6</td>\n",
       "      <td>5.5</td>\n",
       "      <td>7.2</td>\n",
       "      <td>6.3</td>\n",
       "      <td>3.7</td>\n",
       "    </tr>\n",
       "    <tr>\n",
       "      <th>1113</th>\n",
       "      <td>49.412731</td>\n",
       "      <td>0</td>\n",
       "      <td>f</td>\n",
       "      <td>51.0</td>\n",
       "      <td>Consult</td>\n",
       "      <td>HR</td>\n",
       "      <td>empjs</td>\n",
       "      <td>no</td>\n",
       "      <td>m</td>\n",
       "      <td>grey</td>\n",
       "      <td>bus</td>\n",
       "      <td>3.8</td>\n",
       "      <td>7.6</td>\n",
       "      <td>5.7</td>\n",
       "      <td>6.3</td>\n",
       "      <td>5.2</td>\n",
       "    </tr>\n",
       "    <tr>\n",
       "      <th>1114</th>\n",
       "      <td>24.837782</td>\n",
       "      <td>0</td>\n",
       "      <td>f</td>\n",
       "      <td>29.0</td>\n",
       "      <td>Retail</td>\n",
       "      <td>HR</td>\n",
       "      <td>youjs</td>\n",
       "      <td>no</td>\n",
       "      <td>f</td>\n",
       "      <td>white</td>\n",
       "      <td>car</td>\n",
       "      <td>9.4</td>\n",
       "      <td>1.2</td>\n",
       "      <td>4.1</td>\n",
       "      <td>5.6</td>\n",
       "      <td>6.7</td>\n",
       "    </tr>\n",
       "  </tbody>\n",
       "</table>\n",
       "<p>1115 rows × 16 columns</p>\n",
       "</div>"
      ],
      "text/plain": [
       "            stag  event gender   age         industry  profession   \n",
       "0      22.965092      1      m  33.0            Banks          HR  \\\n",
       "1      15.934292      1      f  35.0  PowerGeneration          HR   \n",
       "2      15.934292      1      f  35.0  PowerGeneration          HR   \n",
       "3       8.410678      1      m  32.0           Retail  Commercial   \n",
       "4       8.969199      1      f  42.0      manufacture          HR   \n",
       "...          ...    ...    ...   ...              ...         ...   \n",
       "1110    6.669405      0      f  27.0            Banks          HR   \n",
       "1111   10.611910      0      f  41.0            Banks          HR   \n",
       "1112  118.800821      0      f  34.0          Telecom  Accounting   \n",
       "1113   49.412731      0      f  51.0          Consult          HR   \n",
       "1114   24.837782      0      f  29.0           Retail          HR   \n",
       "\n",
       "          traffic    coach head_gender greywage  way  extraversion  independ   \n",
       "0           empjs       no           m    white  bus           6.2       4.1  \\\n",
       "1     rabrecNErab       no           m    white  bus           6.2       6.2   \n",
       "2     rabrecNErab       no           m    white  bus           5.4       7.6   \n",
       "3           youjs      yes           f    white  bus           3.0       4.1   \n",
       "4           empjs      yes           m    white  bus           6.2       6.2   \n",
       "...           ...      ...         ...      ...  ...           ...       ...   \n",
       "1110        youjs       no           f    white  bus           9.4       5.5   \n",
       "1111  rabrecNErab  my head           m    white  bus           8.6       3.4   \n",
       "1112           KA       no           f    white  bus           4.6       5.5   \n",
       "1113        empjs       no           m     grey  bus           3.8       7.6   \n",
       "1114        youjs       no           f    white  car           9.4       1.2   \n",
       "\n",
       "      selfcontrol  anxiety  novator  \n",
       "0             5.7      7.1      8.3  \n",
       "1             2.6      4.8      8.3  \n",
       "2             4.9      2.5      6.7  \n",
       "3             8.0      7.1      3.7  \n",
       "4             4.1      5.6      6.7  \n",
       "...           ...      ...      ...  \n",
       "1110          3.3      4.0      7.5  \n",
       "1111          2.6      4.8      8.3  \n",
       "1112          7.2      6.3      3.7  \n",
       "1113          5.7      6.3      5.2  \n",
       "1114          4.1      5.6      6.7  \n",
       "\n",
       "[1115 rows x 16 columns]"
      ]
     },
     "execution_count": 13,
     "metadata": {},
     "output_type": "execute_result"
    }
   ],
   "source": [
    "turnover.drop_duplicates()"
   ]
  },
  {
   "cell_type": "markdown",
   "id": "5785910c-2f9c-418a-8703-2e3ebf564e64",
   "metadata": {
    "jp-MarkdownHeadingCollapsed": true,
    "tags": []
   },
   "source": [
    "## Data Understanding"
   ]
  },
  {
   "cell_type": "markdown",
   "id": "15f63fc8-6b10-4ad1-b349-caa641766488",
   "metadata": {
    "tags": []
   },
   "source": [
    "### Data Info"
   ]
  },
  {
   "cell_type": "code",
   "execution_count": 14,
   "id": "e476fbf5-e14d-429b-ace6-eb3f7bf71160",
   "metadata": {},
   "outputs": [
    {
     "data": {
      "text/plain": [
       "(1115, 16)"
      ]
     },
     "execution_count": 14,
     "metadata": {},
     "output_type": "execute_result"
    }
   ],
   "source": [
    "# Cek ukuran data\n",
    "turnover.shape"
   ]
  },
  {
   "cell_type": "code",
   "execution_count": 15,
   "id": "dc62f639-dc1e-4f67-ac15-92119fb4ef82",
   "metadata": {},
   "outputs": [
    {
     "name": "stdout",
     "output_type": "stream",
     "text": [
      "<class 'pandas.core.frame.DataFrame'>\n",
      "RangeIndex: 1115 entries, 0 to 1114\n",
      "Data columns (total 16 columns):\n",
      " #   Column        Non-Null Count  Dtype  \n",
      "---  ------        --------------  -----  \n",
      " 0   stag          1115 non-null   float64\n",
      " 1   event         1115 non-null   int64  \n",
      " 2   gender        1115 non-null   object \n",
      " 3   age           1115 non-null   float64\n",
      " 4   industry      1115 non-null   object \n",
      " 5   profession    1115 non-null   object \n",
      " 6   traffic       1115 non-null   object \n",
      " 7   coach         1115 non-null   object \n",
      " 8   head_gender   1115 non-null   object \n",
      " 9   greywage      1115 non-null   object \n",
      " 10  way           1115 non-null   object \n",
      " 11  extraversion  1115 non-null   float64\n",
      " 12  independ      1115 non-null   float64\n",
      " 13  selfcontrol   1115 non-null   float64\n",
      " 14  anxiety       1115 non-null   float64\n",
      " 15  novator       1115 non-null   float64\n",
      "dtypes: float64(7), int64(1), object(8)\n",
      "memory usage: 139.5+ KB\n"
     ]
    }
   ],
   "source": [
    "# Cek dataframe info: Columns, Non-null Count, Dtypes, Memory Usage\n",
    "turnover.info()"
   ]
  },
  {
   "cell_type": "markdown",
   "id": "dd4da4ef-b292-47b6-b776-39e97b292c5e",
   "metadata": {
    "tags": []
   },
   "source": [
    "### Statistical Summary"
   ]
  },
  {
   "cell_type": "code",
   "execution_count": 16,
   "id": "46ef14ad-bb06-4b73-9def-ccfe359474d0",
   "metadata": {},
   "outputs": [
    {
     "data": {
      "text/html": [
       "<div>\n",
       "<style scoped>\n",
       "    .dataframe tbody tr th:only-of-type {\n",
       "        vertical-align: middle;\n",
       "    }\n",
       "\n",
       "    .dataframe tbody tr th {\n",
       "        vertical-align: top;\n",
       "    }\n",
       "\n",
       "    .dataframe thead th {\n",
       "        text-align: right;\n",
       "    }\n",
       "</style>\n",
       "<table border=\"1\" class=\"dataframe\">\n",
       "  <thead>\n",
       "    <tr style=\"text-align: right;\">\n",
       "      <th></th>\n",
       "      <th>stag</th>\n",
       "      <th>event</th>\n",
       "      <th>age</th>\n",
       "      <th>extraversion</th>\n",
       "      <th>independ</th>\n",
       "      <th>selfcontrol</th>\n",
       "      <th>anxiety</th>\n",
       "      <th>novator</th>\n",
       "    </tr>\n",
       "  </thead>\n",
       "  <tbody>\n",
       "    <tr>\n",
       "      <th>count</th>\n",
       "      <td>1115.000000</td>\n",
       "      <td>1115.000000</td>\n",
       "      <td>1115.000000</td>\n",
       "      <td>1115.000000</td>\n",
       "      <td>1115.000000</td>\n",
       "      <td>1115.000000</td>\n",
       "      <td>1115.000000</td>\n",
       "      <td>1115.000000</td>\n",
       "    </tr>\n",
       "    <tr>\n",
       "      <th>mean</th>\n",
       "      <td>36.728413</td>\n",
       "      <td>0.501345</td>\n",
       "      <td>31.021169</td>\n",
       "      <td>5.589058</td>\n",
       "      <td>5.475695</td>\n",
       "      <td>5.607444</td>\n",
       "      <td>5.665381</td>\n",
       "      <td>5.875157</td>\n",
       "    </tr>\n",
       "    <tr>\n",
       "      <th>std</th>\n",
       "      <td>34.176812</td>\n",
       "      <td>0.500223</td>\n",
       "      <td>6.975189</td>\n",
       "      <td>1.858144</td>\n",
       "      <td>1.702414</td>\n",
       "      <td>1.986609</td>\n",
       "      <td>1.711264</td>\n",
       "      <td>1.903003</td>\n",
       "    </tr>\n",
       "    <tr>\n",
       "      <th>min</th>\n",
       "      <td>0.394251</td>\n",
       "      <td>0.000000</td>\n",
       "      <td>18.000000</td>\n",
       "      <td>1.000000</td>\n",
       "      <td>1.000000</td>\n",
       "      <td>1.000000</td>\n",
       "      <td>1.700000</td>\n",
       "      <td>1.000000</td>\n",
       "    </tr>\n",
       "    <tr>\n",
       "      <th>25%</th>\n",
       "      <td>11.728953</td>\n",
       "      <td>0.000000</td>\n",
       "      <td>26.000000</td>\n",
       "      <td>4.600000</td>\n",
       "      <td>4.100000</td>\n",
       "      <td>4.100000</td>\n",
       "      <td>4.800000</td>\n",
       "      <td>4.400000</td>\n",
       "    </tr>\n",
       "    <tr>\n",
       "      <th>50%</th>\n",
       "      <td>24.476386</td>\n",
       "      <td>1.000000</td>\n",
       "      <td>30.000000</td>\n",
       "      <td>5.400000</td>\n",
       "      <td>5.500000</td>\n",
       "      <td>5.700000</td>\n",
       "      <td>5.600000</td>\n",
       "      <td>6.000000</td>\n",
       "    </tr>\n",
       "    <tr>\n",
       "      <th>75%</th>\n",
       "      <td>51.663244</td>\n",
       "      <td>1.000000</td>\n",
       "      <td>36.000000</td>\n",
       "      <td>7.000000</td>\n",
       "      <td>6.900000</td>\n",
       "      <td>7.200000</td>\n",
       "      <td>7.100000</td>\n",
       "      <td>7.500000</td>\n",
       "    </tr>\n",
       "    <tr>\n",
       "      <th>max</th>\n",
       "      <td>179.449692</td>\n",
       "      <td>1.000000</td>\n",
       "      <td>58.000000</td>\n",
       "      <td>10.000000</td>\n",
       "      <td>10.000000</td>\n",
       "      <td>10.000000</td>\n",
       "      <td>10.000000</td>\n",
       "      <td>10.000000</td>\n",
       "    </tr>\n",
       "  </tbody>\n",
       "</table>\n",
       "</div>"
      ],
      "text/plain": [
       "              stag        event          age  extraversion     independ   \n",
       "count  1115.000000  1115.000000  1115.000000   1115.000000  1115.000000  \\\n",
       "mean     36.728413     0.501345    31.021169      5.589058     5.475695   \n",
       "std      34.176812     0.500223     6.975189      1.858144     1.702414   \n",
       "min       0.394251     0.000000    18.000000      1.000000     1.000000   \n",
       "25%      11.728953     0.000000    26.000000      4.600000     4.100000   \n",
       "50%      24.476386     1.000000    30.000000      5.400000     5.500000   \n",
       "75%      51.663244     1.000000    36.000000      7.000000     6.900000   \n",
       "max     179.449692     1.000000    58.000000     10.000000    10.000000   \n",
       "\n",
       "       selfcontrol      anxiety      novator  \n",
       "count  1115.000000  1115.000000  1115.000000  \n",
       "mean      5.607444     5.665381     5.875157  \n",
       "std       1.986609     1.711264     1.903003  \n",
       "min       1.000000     1.700000     1.000000  \n",
       "25%       4.100000     4.800000     4.400000  \n",
       "50%       5.700000     5.600000     6.000000  \n",
       "75%       7.200000     7.100000     7.500000  \n",
       "max      10.000000    10.000000    10.000000  "
      ]
     },
     "execution_count": 16,
     "metadata": {},
     "output_type": "execute_result"
    }
   ],
   "source": [
    "turnover.describe()"
   ]
  },
  {
   "cell_type": "markdown",
   "id": "b5e98738-4f7e-4671-a7cb-c6fc7598c3f8",
   "metadata": {
    "tags": []
   },
   "source": [
    "### Feature Understanding"
   ]
  },
  {
   "cell_type": "code",
   "execution_count": 17,
   "id": "8be59ada-9ae1-45da-81ff-0d5469954a78",
   "metadata": {},
   "outputs": [],
   "source": [
    "import matplotlib.pyplot as plt\n",
    "import seaborn as sns"
   ]
  },
  {
   "cell_type": "markdown",
   "id": "71c217bd-3407-4fc7-9018-d196321b34e1",
   "metadata": {},
   "source": [
    "__Cek Jumlah Pekerja berdasarkan Gender__"
   ]
  },
  {
   "cell_type": "code",
   "execution_count": 18,
   "id": "d1768d1a-d5ad-47e3-b7b0-98720d21175f",
   "metadata": {
    "tags": []
   },
   "outputs": [
    {
     "data": {
      "text/plain": [
       "<AxesSubplot:title={'center':'Jumlah Pegawai berdasarkan Gender'}, xlabel='gender'>"
      ]
     },
     "execution_count": 18,
     "metadata": {},
     "output_type": "execute_result"
    },
    {
     "data": {
      "image/png": "[encoded data removed]",
      "text/plain": [
       "<Figure size 432x288 with 1 Axes>"
      ]
     },
     "metadata": {
      "needs_background": "light"
     },
     "output_type": "display_data"
    }
   ],
   "source": [
    "turnover.gender.value_counts().plot(kind = 'bar', title = 'Jumlah Pegawai berdasarkan Gender')"
   ]
  },
  {
   "cell_type": "markdown",
   "id": "2d4bc94c-1d43-4f45-acc9-78d14b79fb2c",
   "metadata": {},
   "source": [
    "__Cek Distribusi Pekerja berdasarkan Industri__"
   ]
  },
  {
   "cell_type": "code",
   "execution_count": 19,
   "id": "575d7c37-c3f2-4922-8488-67df5af60d8c",
   "metadata": {
    "tags": []
   },
   "outputs": [
    {
     "data": {
      "text/plain": [
       "Text(0.5, 1.0, 'Cek Outliers berdasarkan Posisi Pekerja')"
      ]
     },
     "execution_count": 19,
     "metadata": {},
     "output_type": "execute_result"
    },
    {
     "data": {
      "image/png": "[encoded data removed]",
      "text/plain": [
       "<Figure size 576x288 with 1 Axes>"
      ]
     },
     "metadata": {
      "needs_background": "light"
     },
     "output_type": "display_data"
    },
    {
     "data": {
      "image/png": "[encoded data removed]",
      "text/plain": [
       "<Figure size 720x144 with 1 Axes>"
      ]
     },
     "metadata": {
      "needs_background": "light"
     },
     "output_type": "display_data"
    }
   ],
   "source": [
    "turnover.industry.value_counts().plot(kind = 'bar', title = 'Jumlah Pegawai berdasarkan Industri', figsize = (8, 4))\n",
    "\n",
    "plt.figure(figsize = (10, 2))\n",
    "sns.boxplot(x = turnover.industry.value_counts())\n",
    "plt.tight_layout(pad = 2.0)\n",
    "plt.title('Cek Outliers berdasarkan Posisi Pekerja')"
   ]
  },
  {
   "cell_type": "markdown",
   "id": "c189c692-b5ce-4555-a802-2f383db2e72c",
   "metadata": {},
   "source": [
    "__Cek Distribusi Pekerja berdasarkan Posisi__"
   ]
  },
  {
   "cell_type": "code",
   "execution_count": 20,
   "id": "82a87878-66b1-4880-8db0-01bb6f8b9875",
   "metadata": {
    "tags": []
   },
   "outputs": [
    {
     "data": {
      "text/plain": [
       "Text(0.5, 1.0, 'Cek Outliers berdasarkan Posisi Pekerja')"
      ]
     },
     "execution_count": 20,
     "metadata": {},
     "output_type": "execute_result"
    },
    {
     "data": {
      "image/png": "[encoded data removed]",
      "text/plain": [
       "<Figure size 576x288 with 1 Axes>"
      ]
     },
     "metadata": {
      "needs_background": "light"
     },
     "output_type": "display_data"
    },
    {
     "data": {
      "image/png": "[encoded data removed]",
      "text/plain": [
       "<Figure size 720x144 with 1 Axes>"
      ]
     },
     "metadata": {
      "needs_background": "light"
     },
     "output_type": "display_data"
    }
   ],
   "source": [
    "turnover.profession.value_counts().plot(kind = 'bar', title = 'Jumlah Pegawai berdasarkan Posisi Kerja', figsize = (8, 4))\n",
    "\n",
    "plt.figure(figsize = (10, 2))\n",
    "sns.boxplot(x = turnover.profession.value_counts())\n",
    "plt.tight_layout(pad = 2.0)\n",
    "plt.title('Cek Outliers berdasarkan Posisi Pekerja')"
   ]
  },
  {
   "cell_type": "markdown",
   "id": "097769c1-0b59-4d94-a211-92c897986a27",
   "metadata": {},
   "source": [
    "__Cek Distribusi Data Numerik__"
   ]
  },
  {
   "cell_type": "code",
   "execution_count": 21,
   "id": "59b8882f-8eb1-40cf-abb2-3ca61a16f43d",
   "metadata": {
    "tags": []
   },
   "outputs": [
    {
     "data": {
      "image/png": "[encoded data removed]",
      "text/plain": [
       "<Figure size 1008x1008 with 8 Axes>"
      ]
     },
     "metadata": {
      "needs_background": "light"
     },
     "output_type": "display_data"
    }
   ],
   "source": [
    "# turnover.plot(kind = 'hist', subplots = True, sharex = False, figsize = (5,20))\n",
    "\n",
    "fig, axs = plt.subplots(nrows = 4, ncols = 2, sharex = False, figsize = (14, 14))\n",
    "for i, col in enumerate(turnover.select_dtypes(exclude = 'object').columns):\n",
    "    axs[i//2,i%2].hist(turnover[col])\n",
    "    axs[i//2,i%2].set_title(col)\n",
    "plt.show()"
   ]
  },
  {
   "cell_type": "markdown",
   "id": "6e0a7b5e-65ac-4c64-b8a7-9cd310d4e38f",
   "metadata": {},
   "source": [
    "__Cek Distribusi Usia Pekerja__"
   ]
  },
  {
   "cell_type": "code",
   "execution_count": 22,
   "id": "8d634921-b18f-461b-a983-0556faa00e47",
   "metadata": {
    "tags": []
   },
   "outputs": [
    {
     "data": {
      "text/plain": [
       "Text(0.5, 1.0, 'Cek Outliers berdasarkan Distribusi Usia Pekerja')"
      ]
     },
     "execution_count": 22,
     "metadata": {},
     "output_type": "execute_result"
    },
    {
     "data": {
      "image/png": "[encoded data removed]",
      "text/plain": [
       "<Figure size 720x144 with 1 Axes>"
      ]
     },
     "metadata": {
      "needs_background": "light"
     },
     "output_type": "display_data"
    }
   ],
   "source": [
    "# turnover.age.plot(kind = 'hist', title = 'Distribusi Usia Pekerja', figsize = (10, 4))\n",
    "\n",
    "plt.figure(figsize = (10, 2))\n",
    "sns.boxplot(x = turnover.age)\n",
    "plt.tight_layout(pad = 2.0)\n",
    "plt.title('Cek Outliers berdasarkan Distribusi Usia Pekerja')"
   ]
  },
  {
   "cell_type": "markdown",
   "id": "603a7dff-6ecc-4174-a5b2-59c41ecb4dfb",
   "metadata": {},
   "source": [
    "__Cek Distribusi Pengalaman Lama Bekerja__"
   ]
  },
  {
   "cell_type": "code",
   "execution_count": 23,
   "id": "75b5d2eb-bc9e-4160-9023-50a47f594548",
   "metadata": {
    "tags": []
   },
   "outputs": [
    {
     "data": {
      "text/plain": [
       "Text(0.5, 1.0, 'Cek Outliers berdasarkan Distribusi Lama Bekerja')"
      ]
     },
     "execution_count": 23,
     "metadata": {},
     "output_type": "execute_result"
    },
    {
     "data": {
      "image/png": "[encoded data removed]",
      "text/plain": [
       "<Figure size 720x288 with 1 Axes>"
      ]
     },
     "metadata": {
      "needs_background": "light"
     },
     "output_type": "display_data"
    },
    {
     "data": {
      "image/png": "[encoded data removed]",
      "text/plain": [
       "<Figure size 720x144 with 1 Axes>"
      ]
     },
     "metadata": {
      "needs_background": "light"
     },
     "output_type": "display_data"
    }
   ],
   "source": [
    "turnover['stag'].plot(kind = 'hist', title = 'Distribusi Lama Bekerja', figsize = (10, 4), bins = 10)\n",
    "\n",
    "plt.figure(figsize = (10, 2))\n",
    "sns.boxplot(x = turnover.stag)\n",
    "plt.tight_layout(pad = 2.0)\n",
    "plt.title('Cek Outliers berdasarkan Distribusi Lama Bekerja')"
   ]
  },
  {
   "cell_type": "markdown",
   "id": "e943ec2e-eaca-4e51-83c5-150f852c6a0c",
   "metadata": {
    "tags": []
   },
   "source": [
    "### Handling Outliers"
   ]
  },
  {
   "cell_type": "code",
   "execution_count": 25,
   "id": "9ecdc172-934d-496d-ba76-6e1e47529776",
   "metadata": {},
   "outputs": [],
   "source": [
    "z_score_stag = np.abs((turnover.stag - turnover.stag.mean()) / turnover.stag.std())\n",
    "z_score_age = np.abs((turnover.age - turnover.age.mean()) / turnover.age.std())\n",
    "\n",
    "turnover = turnover[(z_score_stag <=  1.75) & (z_score_age <=  3)].reset_index(drop = True)"
   ]
  },
  {
   "cell_type": "markdown",
   "id": "0e2ee622-6c81-4549-ac31-76e3a6049234",
   "metadata": {},
   "source": [
    "__Cek Distribusi Data setelah Mengeliminasi Outliers__"
   ]
  },
  {
   "cell_type": "code",
   "execution_count": 26,
   "id": "bf2964af-727e-4010-97b4-0e5524983cd0",
   "metadata": {
    "tags": []
   },
   "outputs": [
    {
     "data": {
      "text/plain": [
       "Text(0.5, 1.0, 'Cek Outliers berdasarkan Distribusi Lama Bekerja')"
      ]
     },
     "execution_count": 26,
     "metadata": {},
     "output_type": "execute_result"
    },
    {
     "data": {
      "image/png": "[encoded data removed]",
      "text/plain": [
       "<Figure size 720x144 with 1 Axes>"
      ]
     },
     "metadata": {
      "needs_background": "light"
     },
     "output_type": "display_data"
    },
    {
     "data": {
      "image/png": "[encoded data removed]",
      "text/plain": [
       "<Figure size 720x144 with 1 Axes>"
      ]
     },
     "metadata": {
      "needs_background": "light"
     },
     "output_type": "display_data"
    }
   ],
   "source": [
    "# Distribusi Usia Pekerja\n",
    "plt.figure(figsize = (10, 2))\n",
    "sns.boxplot(x = turnover.age)\n",
    "plt.tight_layout(pad = 2.0)\n",
    "plt.title('Cek Outliers berdasarkan Distribusi Usia Pekerja')\n",
    "\n",
    "# Distribusi Pengalaman Lama Bekerja\n",
    "plt.figure(figsize = (10, 2))\n",
    "sns.boxplot(x = turnover.stag)\n",
    "plt.tight_layout(pad = 2.0)\n",
    "plt.title('Cek Outliers berdasarkan Distribusi Lama Bekerja')"
   ]
  },
  {
   "cell_type": "code",
   "execution_count": 27,
   "id": "41225ee2-085c-4851-963a-e631f5579449",
   "metadata": {
    "tags": []
   },
   "outputs": [
    {
     "data": {
      "image/png": "[encoded data removed]",
      "text/plain": [
       "<Figure size 1008x1008 with 8 Axes>"
      ]
     },
     "metadata": {
      "needs_background": "light"
     },
     "output_type": "display_data"
    }
   ],
   "source": [
    "# Distribusi Data Numerik\n",
    "fig, axs = plt.subplots(nrows = 4, ncols = 2, sharex = False, figsize = (14, 14))\n",
    "for i, col in enumerate(turnover.select_dtypes(exclude = 'object').columns):\n",
    "    axs[i//2,i%2].hist(turnover[col])\n",
    "    axs[i//2,i%2].set_title(col)\n",
    "plt.show()"
   ]
  },
  {
   "cell_type": "code",
   "execution_count": 28,
   "id": "b45e1179-b3da-4d12-8601-fa1e442549d7",
   "metadata": {},
   "outputs": [
    {
     "data": {
      "image/png": "[encoded data removed]",
      "text/plain": [
       "<Figure size 1440x576 with 1 Axes>"
      ]
     },
     "metadata": {
      "needs_background": "light"
     },
     "output_type": "display_data"
    }
   ],
   "source": [
    "plt.figure(figsize = (20, 8))\n",
    "sns.boxplot(data = turnover, x = 'industry', y = 'stag')\n",
    "plt.show()"
   ]
  },
  {
   "cell_type": "code",
   "execution_count": 29,
   "id": "cfb812b3-392a-4c97-b674-5f77f2eb5047",
   "metadata": {},
   "outputs": [
    {
     "data": {
      "image/png": "[encoded data removed]",
      "text/plain": [
       "<Figure size 1440x576 with 1 Axes>"
      ]
     },
     "metadata": {
      "needs_background": "light"
     },
     "output_type": "display_data"
    }
   ],
   "source": [
    "plt.figure(figsize = (20, 8))\n",
    "sns.boxplot(data = turnover, x = 'profession', y = 'stag')\n",
    "plt.show()"
   ]
  },
  {
   "cell_type": "markdown",
   "id": "f54b0f70-9dec-421c-a087-227a4a76858a",
   "metadata": {
    "jp-MarkdownHeadingCollapsed": true,
    "tags": []
   },
   "source": [
    "### Pivot Table"
   ]
  },
  {
   "cell_type": "code",
   "execution_count": null,
   "id": "7c12e286-3591-4556-876b-760a60b9e484",
   "metadata": {},
   "outputs": [],
   "source": [
    "from pivottablejs import pivot_ui"
   ]
  },
  {
   "cell_type": "code",
   "execution_count": null,
   "id": "196da83a-f63e-45ec-ade9-4eaa07df18ab",
   "metadata": {},
   "outputs": [],
   "source": [
    "pivot_ui(turnover)"
   ]
  },
  {
   "cell_type": "markdown",
   "id": "56766333-fe2c-4e00-95d8-8c667638b8b2",
   "metadata": {
    "jp-MarkdownHeadingCollapsed": true,
    "tags": []
   },
   "source": [
    "# Feature Engineering"
   ]
  },
  {
   "cell_type": "markdown",
   "id": "1c141de4-9e37-4083-9537-37638bbd8c2b",
   "metadata": {
    "tags": []
   },
   "source": [
    "## Data Transformation"
   ]
  },
  {
   "cell_type": "markdown",
   "id": "4075d3fa-28bd-4db5-986a-127ce14063df",
   "metadata": {},
   "source": [
    "Declare dataframe baru sebagai copy dari dataframe turnover"
   ]
  },
  {
   "cell_type": "code",
   "execution_count": 66,
   "id": "64fdddb7-83a8-4807-90e7-bbfec323b707",
   "metadata": {},
   "outputs": [],
   "source": [
    "turnover_model = turnover.copy()"
   ]
  },
  {
   "cell_type": "code",
   "execution_count": 67,
   "id": "c12a22d1-87c3-4113-b0ae-8460a81ec0b2",
   "metadata": {},
   "outputs": [],
   "source": [
    "feature = turnover_model.drop('event',axis = 1)"
   ]
  },
  {
   "cell_type": "markdown",
   "id": "42a8f989-b476-496c-8535-d32f926c3568",
   "metadata": {},
   "source": [
    "Pisahkan data numerikal dan non numerik pada feature"
   ]
  },
  {
   "cell_type": "code",
   "execution_count": 68,
   "id": "1e730702-9ca3-401c-9132-309fe96a5da2",
   "metadata": {},
   "outputs": [],
   "source": [
    "numeric = feature.select_dtypes(exclude = 'object').columns\n",
    "non_numeric = feature.select_dtypes('object').columns"
   ]
  },
  {
   "cell_type": "markdown",
   "id": "a8176208-02b2-47f2-9191-73e2d4b997b2",
   "metadata": {
    "tags": []
   },
   "source": [
    "### Encoding data kategorikal"
   ]
  },
  {
   "cell_type": "code",
   "execution_count": 69,
   "id": "8e6df6b4-02e3-4296-931c-bbcf2b296368",
   "metadata": {},
   "outputs": [],
   "source": [
    "# Import library\n",
    "from sklearn.preprocessing import LabelEncoder\n",
    "label = LabelEncoder()"
   ]
  },
  {
   "cell_type": "code",
   "execution_count": 70,
   "id": "bc0e1640-607f-40b2-891b-02218e46554f",
   "metadata": {},
   "outputs": [],
   "source": [
    "# Proses encoding data kategorikal\n",
    "for column in non_numeric:\n",
    "    turnover_model[column] = label.fit_transform(turnover[column])"
   ]
  },
  {
   "cell_type": "code",
   "execution_count": 71,
   "id": "8a85e53b-cc37-4ced-8ac7-f026664e21e7",
   "metadata": {},
   "outputs": [
    {
     "data": {
      "text/html": [
       "<div>\n",
       "<style scoped>\n",
       "    .dataframe tbody tr th:only-of-type {\n",
       "        vertical-align: middle;\n",
       "    }\n",
       "\n",
       "    .dataframe tbody tr th {\n",
       "        vertical-align: top;\n",
       "    }\n",
       "\n",
       "    .dataframe thead th {\n",
       "        text-align: right;\n",
       "    }\n",
       "</style>\n",
       "<table border=\"1\" class=\"dataframe\">\n",
       "  <thead>\n",
       "    <tr style=\"text-align: right;\">\n",
       "      <th></th>\n",
       "      <th>stag</th>\n",
       "      <th>event</th>\n",
       "      <th>gender</th>\n",
       "      <th>age</th>\n",
       "      <th>industry</th>\n",
       "      <th>profession</th>\n",
       "      <th>traffic</th>\n",
       "      <th>coach</th>\n",
       "      <th>head_gender</th>\n",
       "      <th>greywage</th>\n",
       "      <th>way</th>\n",
       "      <th>extraversion</th>\n",
       "      <th>independ</th>\n",
       "      <th>selfcontrol</th>\n",
       "      <th>anxiety</th>\n",
       "      <th>novator</th>\n",
       "    </tr>\n",
       "  </thead>\n",
       "  <tbody>\n",
       "    <tr>\n",
       "      <th>0</th>\n",
       "      <td>22.965092</td>\n",
       "      <td>1</td>\n",
       "      <td>1</td>\n",
       "      <td>33.0</td>\n",
       "      <td>2</td>\n",
       "      <td>6</td>\n",
       "      <td>2</td>\n",
       "      <td>1</td>\n",
       "      <td>1</td>\n",
       "      <td>1</td>\n",
       "      <td>0</td>\n",
       "      <td>6.2</td>\n",
       "      <td>4.1</td>\n",
       "      <td>5.7</td>\n",
       "      <td>7.1</td>\n",
       "      <td>8.3</td>\n",
       "    </tr>\n",
       "    <tr>\n",
       "      <th>1</th>\n",
       "      <td>15.934292</td>\n",
       "      <td>1</td>\n",
       "      <td>0</td>\n",
       "      <td>35.0</td>\n",
       "      <td>8</td>\n",
       "      <td>6</td>\n",
       "      <td>4</td>\n",
       "      <td>1</td>\n",
       "      <td>1</td>\n",
       "      <td>1</td>\n",
       "      <td>0</td>\n",
       "      <td>6.2</td>\n",
       "      <td>6.2</td>\n",
       "      <td>2.6</td>\n",
       "      <td>4.8</td>\n",
       "      <td>8.3</td>\n",
       "    </tr>\n",
       "    <tr>\n",
       "      <th>2</th>\n",
       "      <td>15.934292</td>\n",
       "      <td>1</td>\n",
       "      <td>0</td>\n",
       "      <td>35.0</td>\n",
       "      <td>8</td>\n",
       "      <td>6</td>\n",
       "      <td>4</td>\n",
       "      <td>1</td>\n",
       "      <td>1</td>\n",
       "      <td>1</td>\n",
       "      <td>0</td>\n",
       "      <td>5.4</td>\n",
       "      <td>7.6</td>\n",
       "      <td>4.9</td>\n",
       "      <td>2.5</td>\n",
       "      <td>6.7</td>\n",
       "    </tr>\n",
       "    <tr>\n",
       "      <th>3</th>\n",
       "      <td>8.410678</td>\n",
       "      <td>1</td>\n",
       "      <td>1</td>\n",
       "      <td>32.0</td>\n",
       "      <td>10</td>\n",
       "      <td>2</td>\n",
       "      <td>7</td>\n",
       "      <td>2</td>\n",
       "      <td>0</td>\n",
       "      <td>1</td>\n",
       "      <td>0</td>\n",
       "      <td>3.0</td>\n",
       "      <td>4.1</td>\n",
       "      <td>8.0</td>\n",
       "      <td>7.1</td>\n",
       "      <td>3.7</td>\n",
       "    </tr>\n",
       "    <tr>\n",
       "      <th>4</th>\n",
       "      <td>8.969199</td>\n",
       "      <td>1</td>\n",
       "      <td>0</td>\n",
       "      <td>42.0</td>\n",
       "      <td>14</td>\n",
       "      <td>6</td>\n",
       "      <td>2</td>\n",
       "      <td>2</td>\n",
       "      <td>1</td>\n",
       "      <td>1</td>\n",
       "      <td>0</td>\n",
       "      <td>6.2</td>\n",
       "      <td>6.2</td>\n",
       "      <td>4.1</td>\n",
       "      <td>5.6</td>\n",
       "      <td>6.7</td>\n",
       "    </tr>\n",
       "  </tbody>\n",
       "</table>\n",
       "</div>"
      ],
      "text/plain": [
       "        stag  event  gender   age  industry  profession  traffic  coach   \n",
       "0  22.965092      1       1  33.0         2           6        2      1  \\\n",
       "1  15.934292      1       0  35.0         8           6        4      1   \n",
       "2  15.934292      1       0  35.0         8           6        4      1   \n",
       "3   8.410678      1       1  32.0        10           2        7      2   \n",
       "4   8.969199      1       0  42.0        14           6        2      2   \n",
       "\n",
       "   head_gender  greywage  way  extraversion  independ  selfcontrol  anxiety   \n",
       "0            1         1    0           6.2       4.1          5.7      7.1  \\\n",
       "1            1         1    0           6.2       6.2          2.6      4.8   \n",
       "2            1         1    0           5.4       7.6          4.9      2.5   \n",
       "3            0         1    0           3.0       4.1          8.0      7.1   \n",
       "4            1         1    0           6.2       6.2          4.1      5.6   \n",
       "\n",
       "   novator  \n",
       "0      8.3  \n",
       "1      8.3  \n",
       "2      6.7  \n",
       "3      3.7  \n",
       "4      6.7  "
      ]
     },
     "execution_count": 71,
     "metadata": {},
     "output_type": "execute_result"
    }
   ],
   "source": [
    "turnover_model.head()"
   ]
  },
  {
   "cell_type": "markdown",
   "id": "38d3c75f-7c7f-4b41-8a7f-28c3bf63f398",
   "metadata": {},
   "source": [
    "### Scaling data numerikal"
   ]
  },
  {
   "cell_type": "code",
   "execution_count": 72,
   "id": "acf2e727-a4dc-4939-a16f-abf50eb85888",
   "metadata": {},
   "outputs": [],
   "source": [
    "# Import library\n",
    "from sklearn.preprocessing import StandardScaler\n",
    "scaler = StandardScaler()"
   ]
  },
  {
   "cell_type": "code",
   "execution_count": 73,
   "id": "f281c9ed-e329-4789-a07b-89d83ac5b194",
   "metadata": {},
   "outputs": [],
   "source": [
    "# Proses standardize data kategorikal\n",
    "turnover_model[numeric] = scaler.fit_transform(turnover_model[numeric])"
   ]
  },
  {
   "cell_type": "code",
   "execution_count": 74,
   "id": "387a4d64-506c-4b27-bb5d-7d2af42b9aac",
   "metadata": {},
   "outputs": [
    {
     "data": {
      "text/html": [
       "<div>\n",
       "<style scoped>\n",
       "    .dataframe tbody tr th:only-of-type {\n",
       "        vertical-align: middle;\n",
       "    }\n",
       "\n",
       "    .dataframe tbody tr th {\n",
       "        vertical-align: top;\n",
       "    }\n",
       "\n",
       "    .dataframe thead th {\n",
       "        text-align: right;\n",
       "    }\n",
       "</style>\n",
       "<table border=\"1\" class=\"dataframe\">\n",
       "  <thead>\n",
       "    <tr style=\"text-align: right;\">\n",
       "      <th></th>\n",
       "      <th>stag</th>\n",
       "      <th>event</th>\n",
       "      <th>gender</th>\n",
       "      <th>age</th>\n",
       "      <th>industry</th>\n",
       "      <th>profession</th>\n",
       "      <th>traffic</th>\n",
       "      <th>coach</th>\n",
       "      <th>head_gender</th>\n",
       "      <th>greywage</th>\n",
       "      <th>way</th>\n",
       "      <th>extraversion</th>\n",
       "      <th>independ</th>\n",
       "      <th>selfcontrol</th>\n",
       "      <th>anxiety</th>\n",
       "      <th>novator</th>\n",
       "    </tr>\n",
       "  </thead>\n",
       "  <tbody>\n",
       "    <tr>\n",
       "      <th>0</th>\n",
       "      <td>-0.294704</td>\n",
       "      <td>1</td>\n",
       "      <td>1</td>\n",
       "      <td>0.278033</td>\n",
       "      <td>2</td>\n",
       "      <td>6</td>\n",
       "      <td>2</td>\n",
       "      <td>1</td>\n",
       "      <td>1</td>\n",
       "      <td>1</td>\n",
       "      <td>0</td>\n",
       "      <td>0.307774</td>\n",
       "      <td>-0.820448</td>\n",
       "      <td>0.054881</td>\n",
       "      <td>0.840734</td>\n",
       "      <td>1.271635</td>\n",
       "    </tr>\n",
       "    <tr>\n",
       "      <th>1</th>\n",
       "      <td>-0.588215</td>\n",
       "      <td>1</td>\n",
       "      <td>0</td>\n",
       "      <td>0.573812</td>\n",
       "      <td>8</td>\n",
       "      <td>6</td>\n",
       "      <td>4</td>\n",
       "      <td>1</td>\n",
       "      <td>1</td>\n",
       "      <td>1</td>\n",
       "      <td>0</td>\n",
       "      <td>0.307774</td>\n",
       "      <td>0.431318</td>\n",
       "      <td>-1.506942</td>\n",
       "      <td>-0.494453</td>\n",
       "      <td>1.271635</td>\n",
       "    </tr>\n",
       "    <tr>\n",
       "      <th>2</th>\n",
       "      <td>-0.588215</td>\n",
       "      <td>1</td>\n",
       "      <td>0</td>\n",
       "      <td>0.573812</td>\n",
       "      <td>8</td>\n",
       "      <td>6</td>\n",
       "      <td>4</td>\n",
       "      <td>1</td>\n",
       "      <td>1</td>\n",
       "      <td>1</td>\n",
       "      <td>0</td>\n",
       "      <td>-0.119604</td>\n",
       "      <td>1.265828</td>\n",
       "      <td>-0.348170</td>\n",
       "      <td>-1.829639</td>\n",
       "      <td>0.435046</td>\n",
       "    </tr>\n",
       "    <tr>\n",
       "      <th>3</th>\n",
       "      <td>-0.902300</td>\n",
       "      <td>1</td>\n",
       "      <td>1</td>\n",
       "      <td>0.130143</td>\n",
       "      <td>10</td>\n",
       "      <td>2</td>\n",
       "      <td>7</td>\n",
       "      <td>2</td>\n",
       "      <td>0</td>\n",
       "      <td>1</td>\n",
       "      <td>0</td>\n",
       "      <td>-1.401737</td>\n",
       "      <td>-0.820448</td>\n",
       "      <td>1.213654</td>\n",
       "      <td>0.840734</td>\n",
       "      <td>-1.133557</td>\n",
       "    </tr>\n",
       "    <tr>\n",
       "      <th>4</th>\n",
       "      <td>-0.878983</td>\n",
       "      <td>1</td>\n",
       "      <td>0</td>\n",
       "      <td>1.609042</td>\n",
       "      <td>14</td>\n",
       "      <td>6</td>\n",
       "      <td>2</td>\n",
       "      <td>2</td>\n",
       "      <td>1</td>\n",
       "      <td>1</td>\n",
       "      <td>0</td>\n",
       "      <td>0.307774</td>\n",
       "      <td>0.431318</td>\n",
       "      <td>-0.751221</td>\n",
       "      <td>-0.030040</td>\n",
       "      <td>0.435046</td>\n",
       "    </tr>\n",
       "  </tbody>\n",
       "</table>\n",
       "</div>"
      ],
      "text/plain": [
       "       stag  event  gender       age  industry  profession  traffic  coach   \n",
       "0 -0.294704      1       1  0.278033         2           6        2      1  \\\n",
       "1 -0.588215      1       0  0.573812         8           6        4      1   \n",
       "2 -0.588215      1       0  0.573812         8           6        4      1   \n",
       "3 -0.902300      1       1  0.130143        10           2        7      2   \n",
       "4 -0.878983      1       0  1.609042        14           6        2      2   \n",
       "\n",
       "   head_gender  greywage  way  extraversion  independ  selfcontrol   anxiety   \n",
       "0            1         1    0      0.307774 -0.820448     0.054881  0.840734  \\\n",
       "1            1         1    0      0.307774  0.431318    -1.506942 -0.494453   \n",
       "2            1         1    0     -0.119604  1.265828    -0.348170 -1.829639   \n",
       "3            0         1    0     -1.401737 -0.820448     1.213654  0.840734   \n",
       "4            1         1    0      0.307774  0.431318    -0.751221 -0.030040   \n",
       "\n",
       "    novator  \n",
       "0  1.271635  \n",
       "1  1.271635  \n",
       "2  0.435046  \n",
       "3 -1.133557  \n",
       "4  0.435046  "
      ]
     },
     "execution_count": 74,
     "metadata": {},
     "output_type": "execute_result"
    }
   ],
   "source": [
    "turnover_model.head()"
   ]
  },
  {
   "cell_type": "markdown",
   "id": "07bea91b-2194-4613-b4e9-667d4a2eb359",
   "metadata": {
    "jp-MarkdownHeadingCollapsed": true,
    "tags": []
   },
   "source": [
    "# Modelling"
   ]
  },
  {
   "cell_type": "markdown",
   "id": "e99236da-fcdd-4101-8e99-cc1b222b9394",
   "metadata": {},
   "source": [
    "__Cek Korelasi Data__"
   ]
  },
  {
   "cell_type": "code",
   "execution_count": 75,
   "id": "ed9547b0-59a7-45b8-a465-f2eb7f04a2ff",
   "metadata": {
    "tags": []
   },
   "outputs": [
    {
     "data": {
      "text/plain": [
       "<AxesSubplot:>"
      ]
     },
     "execution_count": 75,
     "metadata": {},
     "output_type": "execute_result"
    },
    {
     "data": {
      "image/png": "[encoded data removed]",
      "text/plain": [
       "<Figure size 432x432 with 2 Axes>"
      ]
     },
     "metadata": {
      "needs_background": "light"
     },
     "output_type": "display_data"
    }
   ],
   "source": [
    "plt.figure(figsize = (6, 6))\n",
    "sns.heatmap(turnover_model.corr(), vmax = 1, vmin = -1, center = 0, cmap = 'magma')"
   ]
  },
  {
   "cell_type": "markdown",
   "id": "592d97fa-6acd-4d38-bd82-98ff30611f6b",
   "metadata": {},
   "source": [
    "## Declare features (X) & target (y)"
   ]
  },
  {
   "cell_type": "raw",
   "id": "b2c2febe-7bca-4930-8a16-a37298de8db1",
   "metadata": {},
   "source": [
    "variabel bebas (independen) -- feature (x)\n",
    "variabel terikat (dependen) -- target (y)"
   ]
  },
  {
   "cell_type": "code",
   "execution_count": 76,
   "id": "1f6e501a-dad2-40a2-879c-3f3c0b067f5c",
   "metadata": {},
   "outputs": [],
   "source": [
    "X = turnover_model.drop('event',axis = 1)\n",
    "y = turnover.event"
   ]
  },
  {
   "cell_type": "markdown",
   "id": "4a1edcef-527a-4a60-909c-72310d0c3e0b",
   "metadata": {},
   "source": [
    "## Train-Test Split"
   ]
  },
  {
   "cell_type": "code",
   "execution_count": 77,
   "id": "0f219407-276e-4785-a28e-97e20a0849ff",
   "metadata": {},
   "outputs": [],
   "source": [
    "# Define data yang akan ditugaskan untuk membuat model dan menguji model\n",
    "from sklearn.model_selection import train_test_split\n",
    "\n",
    "X_train, X_test, y_train, y_test = train_test_split(X, y, test_size = 0.25, random_state = 42)"
   ]
  },
  {
   "cell_type": "markdown",
   "id": "d39ac26f-822e-431b-a0df-1d1d7bf901b7",
   "metadata": {},
   "source": [
    "## Model Training"
   ]
  },
  {
   "cell_type": "markdown",
   "id": "89470a34-9768-4706-8577-80dc9df3b367",
   "metadata": {},
   "source": [
    "### Import library"
   ]
  },
  {
   "cell_type": "code",
   "execution_count": 78,
   "id": "de9c5d57-6806-414e-a921-c3750430965b",
   "metadata": {},
   "outputs": [],
   "source": [
    "from sklearn.ensemble import RandomForestClassifier, ExtraTreesClassifier\n",
    "from sklearn.tree import DecisionTreeClassifier\n",
    "from sklearn.linear_model import LogisticRegression\n",
    "from sklearn.neighbors import KNeighborsClassifier\n",
    "\n",
    "from sklearn.metrics import (\n",
    "    confusion_matrix,\n",
    "    precision_score,\n",
    "    recall_score,\n",
    "    f1_score,\n",
    "    accuracy_score,\n",
    "    classification_report\n",
    ")"
   ]
  },
  {
   "cell_type": "markdown",
   "id": "51a97bc3-feff-4fbf-a963-696eac88a849",
   "metadata": {
    "tags": []
   },
   "source": [
    "### __Fitting & Evaluating Models__"
   ]
  },
  {
   "cell_type": "code",
   "execution_count": 43,
   "id": "56fc819f-77f3-496a-9610-8fd8043f6a2e",
   "metadata": {
    "tags": []
   },
   "outputs": [
    {
     "data": {
      "text/html": [
       "<div>\n",
       "<style scoped>\n",
       "    .dataframe tbody tr th:only-of-type {\n",
       "        vertical-align: middle;\n",
       "    }\n",
       "\n",
       "    .dataframe tbody tr th {\n",
       "        vertical-align: top;\n",
       "    }\n",
       "\n",
       "    .dataframe thead th {\n",
       "        text-align: right;\n",
       "    }\n",
       "</style>\n",
       "<table border=\"1\" class=\"dataframe\">\n",
       "  <thead>\n",
       "    <tr style=\"text-align: right;\">\n",
       "      <th></th>\n",
       "      <th>accuracy</th>\n",
       "      <th>precision</th>\n",
       "      <th>recall</th>\n",
       "      <th>f1-score</th>\n",
       "    </tr>\n",
       "  </thead>\n",
       "  <tbody>\n",
       "    <tr>\n",
       "      <th>ExtraTreesClassifier</th>\n",
       "      <td>0.666</td>\n",
       "      <td>0.7</td>\n",
       "      <td>0.68</td>\n",
       "      <td>0.692</td>\n",
       "    </tr>\n",
       "    <tr>\n",
       "      <th>RandomForestClassifier</th>\n",
       "      <td>0.664</td>\n",
       "      <td>0.7</td>\n",
       "      <td>0.67</td>\n",
       "      <td>0.688</td>\n",
       "    </tr>\n",
       "    <tr>\n",
       "      <th>DecisionTreeClassifier</th>\n",
       "      <td>0.645</td>\n",
       "      <td>0.69</td>\n",
       "      <td>0.65</td>\n",
       "      <td>0.668</td>\n",
       "    </tr>\n",
       "    <tr>\n",
       "      <th>LogisticRegression</th>\n",
       "      <td>0.619</td>\n",
       "      <td>0.67</td>\n",
       "      <td>0.61</td>\n",
       "      <td>0.636</td>\n",
       "    </tr>\n",
       "    <tr>\n",
       "      <th>KNeighborsClassifier</th>\n",
       "      <td>0.617</td>\n",
       "      <td>0.67</td>\n",
       "      <td>0.6</td>\n",
       "      <td>0.632</td>\n",
       "    </tr>\n",
       "  </tbody>\n",
       "</table>\n",
       "</div>"
      ],
      "text/plain": [
       "                       accuracy precision recall f1-score\n",
       "ExtraTreesClassifier      0.666       0.7   0.68    0.692\n",
       "RandomForestClassifier    0.664       0.7   0.67    0.688\n",
       "DecisionTreeClassifier    0.645      0.69   0.65    0.668\n",
       "LogisticRegression        0.619      0.67   0.61    0.636\n",
       "KNeighborsClassifier      0.617      0.67    0.6    0.632"
      ]
     },
     "execution_count": 43,
     "metadata": {},
     "output_type": "execute_result"
    }
   ],
   "source": [
    "# Fitting dan evaluating beberapa model sekaligus\n",
    "\n",
    "model_names = [\n",
    "    'RandomForestClassifier', 'ExtraTreesClassifier', 'DecisionTreeClassifier',\n",
    "    'LogisticRegression', 'KNeighborsClassifier'\n",
    "]\n",
    "\n",
    "model_list = [\n",
    "    RandomForestClassifier, ExtraTreesClassifier, DecisionTreeClassifier,\n",
    "    LogisticRegression, KNeighborsClassifier\n",
    "]\n",
    "\n",
    "# declare dataframe untuk melihat perbandingan akhir\n",
    "model_compare = pd.DataFrame(\n",
    "    columns = ['accuracy', 'precision', 'recall', 'f1-score'], \n",
    "    index = model_names\n",
    ")\n",
    "\n",
    "pengulangan = 7 # banyak pengulangan proses fitting\n",
    "index = 0\n",
    "accuracy, precision, recall, f1 = [], [], [], [] # declare variabel akurasi, presisi, recall, dan f1_score\n",
    "\n",
    "for classifier in model_list:\n",
    "    model = classifier()\n",
    "    i = 0\n",
    "    while i <= pengulangan:\n",
    "        model.fit(X_train, y_train)\n",
    "        y_pred = model.predict(X_test)\n",
    "\n",
    "        acc = accuracy_score(y_test, y_pred)\n",
    "        prec = precision_score(y_test, y_pred)\n",
    "        rec = recall_score(y_test, y_pred)\n",
    "        f1_ = f1_score(y_test, y_pred)\n",
    "\n",
    "        accuracy.append(acc)\n",
    "        precision.append(prec)\n",
    "        recall.append(rec)\n",
    "        f1.append(f1_)\n",
    "        i += 1\n",
    "\n",
    "    model_compare.loc[model_names[index]] = [\n",
    "        round(np.mean(accuracy), 3),\n",
    "        round(np.mean(precision), 2),\n",
    "        round(np.mean(recall), 2),\n",
    "        round(np.mean(f1), 3)\n",
    "    ]\n",
    "\n",
    "    index += 1\n",
    "\n",
    "model_compare.sort_values('f1-score', ascending=False)"
   ]
  },
  {
   "cell_type": "markdown",
   "id": "d53912f7-6251-4aa2-9d34-59ab7edbaf56",
   "metadata": {
    "tags": []
   },
   "source": [
    "### __Model 1: Extra Trees Classifier__"
   ]
  },
  {
   "cell_type": "code",
   "execution_count": 79,
   "id": "ef6384c5-2010-4fe0-998a-f840e5496584",
   "metadata": {},
   "outputs": [],
   "source": [
    "model1 = ExtraTreesClassifier()"
   ]
  },
  {
   "cell_type": "markdown",
   "id": "e2570b57-03cf-4ad5-9dc1-06817c08da0b",
   "metadata": {
    "jp-MarkdownHeadingCollapsed": true,
    "tags": []
   },
   "source": [
    "#### Fitting Model 1"
   ]
  },
  {
   "cell_type": "code",
   "execution_count": 80,
   "id": "6cda7343-f4c5-482e-9a9d-0db835694ea2",
   "metadata": {},
   "outputs": [
    {
     "data": {
      "text/plain": [
       "ExtraTreesClassifier()"
      ]
     },
     "execution_count": 80,
     "metadata": {},
     "output_type": "execute_result"
    }
   ],
   "source": [
    "model1.fit(X_train, y_train)"
   ]
  },
  {
   "cell_type": "markdown",
   "id": "7277cd00-4e6d-4dd2-954b-a11ee6a5096c",
   "metadata": {
    "tags": []
   },
   "source": [
    "#### Evaluating Model 1"
   ]
  },
  {
   "cell_type": "code",
   "execution_count": 81,
   "id": "08ed5572-f486-468b-9a9c-f1fdae1c87e1",
   "metadata": {},
   "outputs": [],
   "source": [
    "y_pred1 = model1.predict(X_test)"
   ]
  },
  {
   "cell_type": "code",
   "execution_count": 82,
   "id": "1265b98b-748e-48c4-84eb-df38ea6d42d8",
   "metadata": {},
   "outputs": [
    {
     "name": "stdout",
     "output_type": "stream",
     "text": [
      "              precision    recall  f1-score   support\n",
      "\n",
      "           0       0.64      0.67      0.66       116\n",
      "           1       0.72      0.69      0.71       142\n",
      "\n",
      "    accuracy                           0.68       258\n",
      "   macro avg       0.68      0.68      0.68       258\n",
      "weighted avg       0.68      0.68      0.68       258\n",
      "\n"
     ]
    }
   ],
   "source": [
    "print(classification_report(y_test, y_pred1))"
   ]
  },
  {
   "cell_type": "code",
   "execution_count": 83,
   "id": "5b5dfdc2-5d8f-41f3-bb00-1f64eaecd6c2",
   "metadata": {},
   "outputs": [
    {
     "data": {
      "text/plain": [
       "<AxesSubplot:>"
      ]
     },
     "execution_count": 83,
     "metadata": {},
     "output_type": "execute_result"
    },
    {
     "data": {
      "image/png": "[encoded data removed]",
      "text/plain": [
       "<Figure size 216x216 with 2 Axes>"
      ]
     },
     "metadata": {
      "needs_background": "light"
     },
     "output_type": "display_data"
    }
   ],
   "source": [
    "confusion = confusion_matrix(y_test, y_pred)\n",
    "\n",
    "plt.figure(figsize = (3, 3))\n",
    "sns.heatmap(confusion, annot = True, cmap = 'magma',)"
   ]
  },
  {
   "cell_type": "markdown",
   "id": "01b3f9fd-8976-4232-9a0c-74289d403287",
   "metadata": {
    "tags": []
   },
   "source": [
    "### __Model 2: Random Forest Classifier__"
   ]
  },
  {
   "cell_type": "code",
   "execution_count": 85,
   "id": "9e3b6bf7-65c3-43ac-801e-14b555de8174",
   "metadata": {},
   "outputs": [],
   "source": [
    "model2 = RandomForestClassifier()"
   ]
  },
  {
   "cell_type": "markdown",
   "id": "3fc88f87-ecb9-4224-b614-ef4de26f8137",
   "metadata": {
    "tags": []
   },
   "source": [
    "#### Fitting Model 2"
   ]
  },
  {
   "cell_type": "code",
   "execution_count": 86,
   "id": "cfad3511-d8ad-44d6-9643-1fbe2331ff9c",
   "metadata": {},
   "outputs": [
    {
     "data": {
      "text/plain": [
       "RandomForestClassifier()"
      ]
     },
     "execution_count": 86,
     "metadata": {},
     "output_type": "execute_result"
    }
   ],
   "source": [
    "model2.fit(X_train, y_train)"
   ]
  },
  {
   "cell_type": "markdown",
   "id": "ee2daba0-3f86-4def-847f-9aa9a4c5db95",
   "metadata": {
    "tags": []
   },
   "source": [
    "#### Evaluating Model 2"
   ]
  },
  {
   "cell_type": "code",
   "execution_count": 87,
   "id": "19d0e065-92fc-4bdf-a3c9-36656cacf396",
   "metadata": {},
   "outputs": [],
   "source": [
    "y_pred2 = model2.predict(X_test)"
   ]
  },
  {
   "cell_type": "code",
   "execution_count": 88,
   "id": "10f5d646-bbfe-4f97-882f-117e56a93c69",
   "metadata": {},
   "outputs": [
    {
     "name": "stdout",
     "output_type": "stream",
     "text": [
      "              precision    recall  f1-score   support\n",
      "\n",
      "           0       0.62      0.63      0.63       116\n",
      "           1       0.70      0.69      0.69       142\n",
      "\n",
      "    accuracy                           0.66       258\n",
      "   macro avg       0.66      0.66      0.66       258\n",
      "weighted avg       0.66      0.66      0.66       258\n",
      "\n"
     ]
    }
   ],
   "source": [
    "print(classification_report(y_test, y_pred2))"
   ]
  },
  {
   "cell_type": "code",
   "execution_count": 89,
   "id": "e1f3e21b-c52c-4169-bf96-865b33540f09",
   "metadata": {},
   "outputs": [
    {
     "data": {
      "text/plain": [
       "<AxesSubplot:>"
      ]
     },
     "execution_count": 89,
     "metadata": {},
     "output_type": "execute_result"
    },
    {
     "data": {
      "image/png": "[encoded data removed]",
      "text/plain": [
       "<Figure size 216x216 with 2 Axes>"
      ]
     },
     "metadata": {
      "needs_background": "light"
     },
     "output_type": "display_data"
    }
   ],
   "source": [
    "confusion = confusion_matrix(y_test, y_pred)\n",
    "\n",
    "plt.figure(figsize = (3, 3))\n",
    "sns.heatmap(confusion, annot = True, cmap = 'magma',)"
   ]
  },
  {
   "cell_type": "markdown",
   "id": "1127e1c1-84b2-411d-8990-2f6615d0f987",
   "metadata": {
    "tags": []
   },
   "source": [
    "### __Model 3: Decision Tree Classifier__"
   ]
  },
  {
   "cell_type": "code",
   "execution_count": 90,
   "id": "4343f169-696c-4f51-91e0-784e2ad4b522",
   "metadata": {},
   "outputs": [],
   "source": [
    "model3 = DecisionTreeClassifier()"
   ]
  },
  {
   "cell_type": "markdown",
   "id": "00e5b784-9701-4832-beea-1aa92a139d15",
   "metadata": {
    "tags": []
   },
   "source": [
    "#### Fitting Model 2"
   ]
  },
  {
   "cell_type": "code",
   "execution_count": 91,
   "id": "abb7bc45-6744-46ab-9f01-dc7099896193",
   "metadata": {},
   "outputs": [
    {
     "data": {
      "text/plain": [
       "DecisionTreeClassifier()"
      ]
     },
     "execution_count": 91,
     "metadata": {},
     "output_type": "execute_result"
    }
   ],
   "source": [
    "model3.fit(X_train, y_train)"
   ]
  },
  {
   "cell_type": "markdown",
   "id": "bd8fa111-7e64-4301-96ca-d335834dcec0",
   "metadata": {
    "tags": []
   },
   "source": [
    "#### Evaluating Model 2"
   ]
  },
  {
   "cell_type": "code",
   "execution_count": 92,
   "id": "cf5eb5a4-7ed1-4d14-8f44-6b345a87b522",
   "metadata": {},
   "outputs": [],
   "source": [
    "y_pred3 = model2.predict(X_test)"
   ]
  },
  {
   "cell_type": "code",
   "execution_count": 93,
   "id": "c5b08202-c20f-4b35-91df-78194915b869",
   "metadata": {},
   "outputs": [
    {
     "name": "stdout",
     "output_type": "stream",
     "text": [
      "              precision    recall  f1-score   support\n",
      "\n",
      "           0       0.62      0.63      0.63       116\n",
      "           1       0.70      0.69      0.69       142\n",
      "\n",
      "    accuracy                           0.66       258\n",
      "   macro avg       0.66      0.66      0.66       258\n",
      "weighted avg       0.66      0.66      0.66       258\n",
      "\n"
     ]
    }
   ],
   "source": [
    "print(classification_report(y_test, y_pred3))"
   ]
  },
  {
   "cell_type": "code",
   "execution_count": 94,
   "id": "4113c359-784a-4be2-a079-d91d4cca6522",
   "metadata": {},
   "outputs": [
    {
     "data": {
      "text/plain": [
       "<AxesSubplot:>"
      ]
     },
     "execution_count": 94,
     "metadata": {},
     "output_type": "execute_result"
    },
    {
     "data": {
      "image/png": "[encoded data removed]",
      "text/plain": [
       "<Figure size 216x216 with 2 Axes>"
      ]
     },
     "metadata": {
      "needs_background": "light"
     },
     "output_type": "display_data"
    }
   ],
   "source": [
    "confusion = confusion_matrix(y_test, y_pred2)\n",
    "\n",
    "plt.figure(figsize = (3, 3))\n",
    "sns.heatmap(confusion, annot = True, cmap = 'magma',)"
   ]
  },
  {
   "cell_type": "markdown",
   "id": "f90802d1-21a1-4803-8850-0d2ec6b24b4f",
   "metadata": {
    "tags": []
   },
   "source": [
    "### Cross Validation"
   ]
  },
  {
   "cell_type": "code",
   "execution_count": 95,
   "id": "b5944c40-a140-4f67-bbed-99c1bb8a757c",
   "metadata": {},
   "outputs": [
    {
     "name": "stdout",
     "output_type": "stream",
     "text": [
      "score_train: 0.65\n",
      "score_test: 0.55\n"
     ]
    }
   ],
   "source": [
    "from sklearn.model_selection import cross_val_score\n",
    "# evaluate model with cross-validation\n",
    "scores_train = cross_val_score(model1, X_train, y_train, cv = 5, scoring = 'accuracy')\n",
    "scores_test = cross_val_score(model1, X_test, y_test, cv = 5, scoring = 'accuracy')\n",
    "\n",
    "print(f'score_train: {round(np.mean(scores_train), 2)}\\nscore_test: {round(np.mean(scores_test), 2)}')"
   ]
  },
  {
   "cell_type": "markdown",
   "id": "547a6354-6bc4-44c6-83ef-36618247fd38",
   "metadata": {
    "tags": []
   },
   "source": [
    "### Kurva Accuracy"
   ]
  },
  {
   "cell_type": "code",
   "execution_count": 96,
   "id": "2f8f6e3b-f16e-454d-97d4-1bb341a04674",
   "metadata": {},
   "outputs": [],
   "source": [
    "train_scores, test_scores = [], []\n",
    "for i in range(1, 21):\n",
    "    model1.fit(X_train, y_train)\n",
    "    \n",
    "    # Make predictions on training and testing sets\n",
    "    y_train_pred = model1.predict(X_train)\n",
    "    y_test_pred = model1.predict(X_test)\n",
    "\n",
    "    # Calculate accuracy for training and testing sets\n",
    "    train_accuracy = accuracy_score(y_train, y_train_pred)\n",
    "    test_accuracy = accuracy_score(y_test, y_test_pred)\n",
    "    \n",
    "    train_scores.append(train_accuracy)\n",
    "    test_scores.append(test_accuracy)"
   ]
  },
  {
   "cell_type": "code",
   "execution_count": 97,
   "id": "add7deb9-4e83-428a-855b-5406d3c05e0c",
   "metadata": {},
   "outputs": [
    {
     "data": {
      "image/png": "[encoded data removed]",
      "text/plain": [
       "<Figure size 432x288 with 1 Axes>"
      ]
     },
     "metadata": {
      "needs_background": "light"
     },
     "output_type": "display_data"
    }
   ],
   "source": [
    "plt.plot(range(1, 21), train_scores, '-o', label = 'Train')\n",
    "plt.plot(range(1, 21), test_scores, '-o', label = 'Test')\n",
    "plt.legend()\n",
    "plt.show()"
   ]
  },
  {
   "cell_type": "markdown",
   "id": "0ab3aeab-e329-4860-b314-af9028308992",
   "metadata": {
    "jp-MarkdownHeadingCollapsed": true,
    "tags": []
   },
   "source": [
    "# Dumping Model"
   ]
  },
  {
   "cell_type": "markdown",
   "id": "bf6b3f5f-d2ad-4049-8ec8-0fd6be2173af",
   "metadata": {},
   "source": [
    "__Dengan joblib__"
   ]
  },
  {
   "cell_type": "code",
   "execution_count": 62,
   "id": "6cdee924-ae3d-4ede-8475-6529291789c6",
   "metadata": {},
   "outputs": [
    {
     "data": {
      "text/plain": [
       "['model1.joblib']"
      ]
     },
     "execution_count": 62,
     "metadata": {},
     "output_type": "execute_result"
    }
   ],
   "source": [
    "from joblib import dump\n",
    "\n",
    "# Dumping model ke dalam file\n",
    "dump(model1, 'model1.joblib')"
   ]
  },
  {
   "cell_type": "markdown",
   "id": "457a7c72-727c-4fa6-897d-9ea1b050bbbb",
   "metadata": {},
   "source": [
    "__Dengan pickle__"
   ]
  },
  {
   "cell_type": "code",
   "execution_count": 63,
   "id": "e4fbf5df-7dc4-41dc-af6e-19fb20f2c827",
   "metadata": {},
   "outputs": [],
   "source": [
    "import pickle\n",
    "\n",
    "# Dumping model ke dalam file\n",
    "with open('model1.pkl', 'wb') as file:\n",
    "    pickle.dump(model, file)"
   ]
  },
  {
   "cell_type": "markdown",
   "id": "52842ab9-664e-499a-9726-e0e3050978fc",
   "metadata": {
    "jp-MarkdownHeadingCollapsed": true,
    "tags": []
   },
   "source": [
    "# Loading Model"
   ]
  },
  {
   "cell_type": "markdown",
   "id": "72e4fe76-8d34-4b63-aac9-effae5d91256",
   "metadata": {},
   "source": [
    "__Dengan joblib__"
   ]
  },
  {
   "cell_type": "code",
   "execution_count": 64,
   "id": "e0d8c3cf-0372-44dc-8445-866cdb05dca3",
   "metadata": {},
   "outputs": [],
   "source": [
    "from joblib import load\n",
    "\n",
    "# Memuat model dari file\n",
    "model = load('model1.joblib')"
   ]
  },
  {
   "cell_type": "markdown",
   "id": "8c854f88-5746-4da3-a6e2-726e7476cff9",
   "metadata": {},
   "source": [
    "__Dengan pickle__"
   ]
  },
  {
   "cell_type": "code",
   "execution_count": 65,
   "id": "88d000fb-e6fe-4818-9539-444269bd8de8",
   "metadata": {},
   "outputs": [],
   "source": [
    "import pickle\n",
    "\n",
    "# Memuat model dari file\n",
    "with open('model1.pkl', 'rb') as file:\n",
    "    model = pickle.load(file)"
   ]
  },
  {
   "cell_type": "markdown",
   "id": "d8510ae9-efed-46be-8ba7-db7ae227ffbe",
   "metadata": {},
   "source": [
    "__Melakukan prediksi dengan model yang sudah diload__"
   ]
  },
  {
   "cell_type": "code",
   "execution_count": null,
   "id": "e7990d73-d146-4808-82bf-d34733ceaccb",
   "metadata": {},
   "outputs": [],
   "source": [
    "model.predict([input_data])"
   ]
  }
 ],
 "metadata": {
  "kernelspec": {
   "display_name": "Python 3 (ipykernel)",
   "language": "python",
   "name": "python3"
  },
  "language_info": {
   "codemirror_mode": {
    "name": "ipython",
    "version": 3
   },
   "file_extension": ".py",
   "mimetype": "text/x-python",
   "name": "python",
   "nbconvert_exporter": "python",
   "pygments_lexer": "ipython3",
   "version": "3.9.12"
  }
 },
 "nbformat": 4,
 "nbformat_minor": 5
}
